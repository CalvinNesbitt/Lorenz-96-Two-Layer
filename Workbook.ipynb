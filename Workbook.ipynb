{
 "cells": [
  {
   "cell_type": "markdown",
   "metadata": {},
   "source": [
    "# Lorenz 96 Ginelli Workbook\n",
    "\n",
    "This notebook is a space for quick investigations & current implementation notes. Less formal."
   ]
  },
  {
   "cell_type": "code",
   "execution_count": 1,
   "metadata": {},
   "outputs": [],
   "source": [
    "# Imports\n",
    "\n",
    "import numpy as np\n",
    "import time as tm\n",
    "import xarray as xr\n",
    "import sys\n",
    "import ipywidgets as widgets\n",
    "import matplotlib.pyplot as plt\n",
    "from scipy.stats import gaussian_kde\n",
    "from ginelli96 import Ginelli96\n",
    "from utilities import * # process object does averaging"
   ]
  },
  {
   "cell_type": "code",
   "execution_count": null,
   "metadata": {},
   "outputs": [],
   "source": [
    "# Progress Bar Import\n",
    "\n",
    "def in_notebook():\n",
    "    \"\"\"\n",
    "    Returns ``True`` if the module is running in IPython kernel,\n",
    "    ``False`` if in IPython shell or other Python shell.\n",
    "    \"\"\"\n",
    "    return 'ipykernel' in sys.modules\n",
    "\n",
    "if in_notebook():\n",
    "    from tqdm.notebook import tqdm #tqdm is progress bar\n",
    "else:\n",
    "    from tqdm import tqdm"
   ]
  },
  {
   "cell_type": "markdown",
   "metadata": {},
   "source": [
    "### Notes\n",
    "\n",
    "Currently:\n",
    "\n",
    "- Processing utilities\n",
    "- Checkpointing\n",
    "\n",
    "Then:\n",
    "\n",
    "- To stitch runs together will be hard. Worth figuring first how long a run you need.\n",
    "- Need to formalise memory job sizing\n",
    "- Would be nice to stitch runs together\n",
    "- Calculate and store CLV angles\n",
    "- Determine run lengths, maybe we need to have a way to stitch many runs together\n",
    "- See effect of changing $h$"
   ]
  },
  {
   "cell_type": "markdown",
   "metadata": {},
   "source": [
    "## Testing Checkpointing"
   ]
  },
  {
   "cell_type": "code",
   "execution_count": 20,
   "metadata": {},
   "outputs": [
    {
     "name": "stdout",
     "output_type": "stream",
     "text": [
      "Transient Beginning\n",
      "\n",
      "Transient took 0.29691553115844727 seconds. Starting Ginelli Step 1.\n",
      "\n",
      "Step 1 took 0.5506072044372559 seconds. Starting Ginelli Step 2.\n",
      "\n",
      "Step 2 took 1.306870937347412 seconds. Starting Ginelli Step 3.\n",
      "\n",
      "Step 3 took 0.5025069713592529 seconds. Starting Ginelli Step 4.\n",
      "\n",
      "Step 4 took 0.0021877288818359375 seconds. Starting Ginelli Step 5.\n",
      "\n",
      "Step 5 took 0.0009167194366455078 seconds. Finishing up.\n",
      "\n"
     ]
    }
   ],
   "source": [
    "runner = Ginelli96(K = 2, J = 2, transient = 1, kA = 2, kB = 5 , kC = 2)\n",
    "runner._run_ginelli()\n",
    "raw = runner.run_data"
   ]
  },
  {
   "cell_type": "code",
   "execution_count": 35,
   "metadata": {},
   "outputs": [
    {
     "data": {
      "image/png": "[encoded data removed]",
      "text/plain": [
       "<Figure size 432x288 with 1 Axes>"
      ]
     },
     "metadata": {
      "needs_background": "light"
     },
     "output_type": "display_data"
    }
   ],
   "source": [
    "# Seeing if error between CLE and BLE difference is gone\n",
    "plt.plot(100 * np.abs((processed.CLE - processed.BLE)[:-1]/(processed.BLE)[:-1]))\n",
    "#plt.plot(100 * np.abs((processed.CLE - processed.BLE)/(processed.BLE)))\n",
    "plt.plot(np.full_like(np.linspace(-0.5, 3.55, 100), processed.kd),np.linspace(-0.01, 3.6, 100), '--k', label = '~0 LE')\n",
    "plt.title('Relative LE Spectra Disagreement')\n",
    "plt.ylabel('Relative Disagreement (%)')\n",
    "plt.legend()\n",
    "plt.xlabel('LE Index')\n",
    "plt.savefig('CLE-vs-BLE-Spectra.png', dpi = 1200)"
   ]
  },
  {
   "cell_type": "code",
   "execution_count": null,
   "metadata": {},
   "outputs": [],
   "source": [
    "# Function plotting FTLE density for changing\n",
    "le = 150\n",
    "ftle = 'C'\n",
    "for data in L_data:\n",
    "    avg_time = data.attrs['Avg Time'] # for now L = 1\n",
    "\n",
    "    # FTCLE or FTBLE?\n",
    "    if (ftle == 'C'):\n",
    "        FTLE = data.FTCLE.sel(le_index = le).values\n",
    "        label = f'{avg_time:.2f}'\n",
    "    else: # then FTBLE\n",
    "        FTLE = data.FTCLE.sel(le_index = le).values\n",
    "        label = f'$h={h:.2f}$'\n",
    "\n",
    "    x_d = np.linspace(FTLE.min() - 1, FTLE.max() + 1, 100) # Grid we evaluate PDF on\n",
    "    kde = gaussian_kde(FTLE) # KDE. Using Gaussian kernels with default bandwidth, don't know how it decided bw?\n",
    "    pdf = kde.evaluate(x_d)\n",
    "    plt.plot(x_d, pdf, label = label) \n",
    "\n",
    "    plt.xlabel(f'FT{ftle}LE')\n",
    "    plt.ylabel('$\\\\rho$')\n",
    "    plt.title(f'FT{ftle}LE {le} Density Comparison')\n",
    "plt.plot(np.full_like(np.linspace(0,1, 10), processed.CLE.sel(le_index = le)), np.linspace(0,1, 10) ,'--k', label = 'Mean')\n",
    "plt.legend()\n",
    "plt.show()\n"
   ]
  },
  {
   "cell_type": "code",
   "execution_count": null,
   "metadata": {},
   "outputs": [],
   "source": [
    "long_data = xr.open_dataset("
   ]
  }
 ],
 "metadata": {
  "kernelspec": {
   "display_name": "Python3 (personal)",
   "language": "python",
   "name": "python3_personal"
  },
  "language_info": {
   "codemirror_mode": {
    "name": "ipython",
    "version": 3
   },
   "file_extension": ".py",
   "mimetype": "text/x-python",
   "name": "python",
   "nbconvert_exporter": "python",
   "pygments_lexer": "ipython3",
   "version": "3.6.10"
  }
 },
 "nbformat": 4,
 "nbformat_minor": 2
}
