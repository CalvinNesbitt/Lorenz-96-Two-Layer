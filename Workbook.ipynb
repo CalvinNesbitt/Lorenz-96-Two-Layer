{
 "cells": [
  {
   "cell_type": "markdown",
   "metadata": {},
   "source": [
    "# Lorenz 96 Ginelli Workbook\n",
    "\n",
    "This notebook is a space for quick investigations & current implementation notes. Less formal."
   ]
  },
  {
   "cell_type": "code",
   "execution_count": 1,
   "metadata": {},
   "outputs": [],
   "source": [
    "# Imports\n",
    "\n",
    "import numpy as np\n",
    "import time as tm\n",
    "import pickle\n",
    "import xarray as xr\n",
    "import sys\n",
    "import ipywidgets as widgets\n",
    "import matplotlib.pyplot as plt\n",
    "from scipy.stats import gaussian_kde"
   ]
  },
  {
   "cell_type": "code",
   "execution_count": 3,
   "metadata": {},
   "outputs": [],
   "source": [
    "# Progress Bar Import\n",
    "\n",
    "def in_notebook():\n",
    "    \"\"\"\n",
    "    Returns ``True`` if the module is running in IPython kernel,\n",
    "    ``False`` if in IPython shell or other Python shell.\n",
    "    \"\"\"\n",
    "    return 'ipykernel' in sys.modules\n",
    "\n",
    "if in_notebook():\n",
    "    from tqdm.notebook import tqdm #tqdm is progress bar\n",
    "else:\n",
    "    from tqdm import tqdm"
   ]
  },
  {
   "cell_type": "markdown",
   "metadata": {},
   "source": [
    "### Notes\n"
   ]
  },
  {
   "cell_type": "markdown",
   "metadata": {},
   "source": [
    "## $k_a$ Timings\n",
    "\n",
    "Timing the effect of $k_a$."
   ]
  },
  {
   "cell_type": "code",
   "execution_count": 2,
   "metadata": {},
   "outputs": [
    {
     "name": "stdout",
     "output_type": "stream",
     "text": [
      "{'h': 1, 'Fs': 10, 'Ff': 6, 'c': 10, 'J': 10, 'K': 36, 'Number of variables': 396, 'b': 10.0, 'dt': 0.001, 'tau': 0.01, 'transient': 1.0, 'ka': 250, 'kb': 250, 'kc': 250}\n",
      "{'h': 1, 'Fs': 10, 'Ff': 6, 'c': 10, 'J': 10, 'K': 36, 'Number of variables': 396, 'b': 10.0, 'dt': 0.001, 'tau': 0.01, 'transient': 1.0, 'ka': 500, 'kb': 250, 'kc': 250}\n",
      "{'h': 1, 'Fs': 10, 'Ff': 6, 'c': 10, 'J': 10, 'K': 36, 'Number of variables': 396, 'b': 10.0, 'dt': 0.001, 'tau': 0.01, 'transient': 1.0, 'ka': 1000, 'kb': 250, 'kc': 250}\n"
     ]
    }
   ],
   "source": [
    "ka_timings = [pickle.load(open(f'ka-timings/{i}/timings.p', 'rb')) for i in [1, 2, 3]]\n",
    "parameters = []\n",
    "\n",
    "for i in [1, 2, 3]:\n",
    "    ds = xr.open_dataset(f'ka-timings/{i}/step5/LyapObs1.nc')\n",
    "    print(ds.attrs)\n",
    "    parameters.append(ds.attrs)\n",
    "    ds.close()"
   ]
  },
  {
   "cell_type": "code",
   "execution_count": 15,
   "metadata": {},
   "outputs": [],
   "source": [
    "data_list = [xr.open_dataset(f'ka-timings/{i}/step5/LyapObs1.nc') for i in [1, 2, 3]]"
   ]
  },
  {
   "cell_type": "code",
   "execution_count": 21,
   "metadata": {},
   "outputs": [],
   "source": [
    "def spectra_parameter(data_list, parameter_key, geometry='C', save = 'None'):\n",
    "    \"\"\"Plots Lyapunov spectra for a varying parameter.\n",
    "    data_list, list of data arrays containing lyapunov observations\n",
    "    parameter_key, the parameter from data.attrs that we're investigating.\n",
    "    geometry, CLEs or BLEs.\n",
    "    save, file save name\n",
    "    \"\"\"\n",
    "\n",
    "    for data in data_list:\n",
    "        \n",
    "        attr = data.attrs[parameter_key]\n",
    "       \n",
    "        if (geometry == 'C'):\n",
    "            spectra = data.ftcle.mean(dim='time', skipna=True)\n",
    "            label = f'{parameter_key}$={attr:.2f}$'\n",
    "        else: # then FTBLE\n",
    "            spectra = data.ftble.mean(dim='time', skipna=True)\n",
    "            label = f'{parameter_key}$={attr:.2f}$'\n",
    "\n",
    "\n",
    "        plt.plot(spectra, label=label)\n",
    "\n",
    "    plt.legend()\n",
    "    plt.title(f'FT{geometry}LE Means')\n",
    "    plt.xlabel('LE Index') \n",
    "    \n",
    "    if (save == 'None'):\n",
    "        plt.show()\n",
    "    else:\n",
    "        print('Saving')\n",
    "        plt.savefig(save, dpi=1200)\n",
    "        plt.show()\n",
    "    "
   ]
  }
 ],
 "metadata": {
  "kernelspec": {
   "display_name": "Python3 (personal)",
   "language": "python",
   "name": "python3_personal"
  },
  "language_info": {
   "codemirror_mode": {
    "name": "ipython",
    "version": 3
   },
   "file_extension": ".py",
   "mimetype": "text/x-python",
   "name": "python",
   "nbconvert_exporter": "python",
   "pygments_lexer": "ipython3",
   "version": "3.6.10"
  }
 },
 "nbformat": 4,
 "nbformat_minor": 2
}
