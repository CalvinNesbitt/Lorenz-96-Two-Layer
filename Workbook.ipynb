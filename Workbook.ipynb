{
 "cells": [
  {
   "cell_type": "markdown",
   "metadata": {},
   "source": [
    "# Lorenz 96 Ginelli Workbook\n",
    "\n",
    "This notebook is a space for quick investigations & current implementation notes. Less formal."
   ]
  },
  {
   "cell_type": "code",
   "execution_count": 1,
   "metadata": {},
   "outputs": [],
   "source": [
    "# Imports\n",
    "\n",
    "import numpy as np\n",
    "import time as tm\n",
    "import pickle\n",
    "import os\n",
    "import xarray as xr\n",
    "import sys\n",
    "import ipywidgets as widgets\n",
    "import matplotlib.pyplot as plt\n",
    "from scipy.stats import gaussian_kde"
   ]
  },
  {
   "cell_type": "code",
   "execution_count": 2,
   "metadata": {},
   "outputs": [],
   "source": [
    "# Progress Bar Import\n",
    "\n",
    "def in_notebook():\n",
    "    \"\"\"\n",
    "    Returns ``True`` if the module is running in IPython kernel,\n",
    "    ``False`` if in IPython shell or other Python shell.\n",
    "    \"\"\"\n",
    "    return 'ipykernel' in sys.modules\n",
    "\n",
    "if in_notebook():\n",
    "    from tqdm.notebook import tqdm #tqdm is progress bar\n",
    "else:\n",
    "    from tqdm import tqdm"
   ]
  },
  {
   "cell_type": "markdown",
   "metadata": {},
   "source": [
    "### Notes\n",
    "\n",
    "- Need to check how 'lyapobs' are saving when it goes beyond 10 dumps.\n",
    "- Problem with last FTBLE"
   ]
  },
  {
   "cell_type": "code",
   "execution_count": null,
   "metadata": {},
   "outputs": [],
   "source": [
    "def spectra (data, geometry = 'C'):\n",
    "    if (geometry == 'C'):\n",
    "        spectra = data.ftcle.mean(dim='time', skipna=True)\n",
    "    else: # then FTBLE\n",
    "        spectra = data.ftble.mean(dim='time', skipna=True)\n",
    "    return spectra"
   ]
  },
  {
   "cell_type": "code",
   "execution_count": null,
   "metadata": {},
   "outputs": [],
   "source": [
    "def spectra_parameter(data_list, parameter_key, geometry='C', save = 'None'):\n",
    "    \"\"\"Plots Lyapunov spectra for a varying parameter.\n",
    "    data_list, list of data arrays containing lyapunov observations\n",
    "    parameter_key, the parameter from data.attrs that we're investigating.\n",
    "    geometry, CLEs or BLEs.\n",
    "    save, file save name\n",
    "    \"\"\"\n",
    "\n",
    "    for data in data_list:\n",
    "        \n",
    "        attr = data.attrs[parameter_key]\n",
    "       \n",
    "        if (geometry == 'C'):\n",
    "            spectra = data.ftcle.mean(dim='time', skipna=True)\n",
    "            label = f'{parameter_key}$={attr:.2f}$'\n",
    "        else: # then FTBLE\n",
    "            spectra = data.ftble.mean(dim='time', skipna=True)\n",
    "            label = f'{parameter_key}$={attr:.2f}$'\n",
    "\n",
    "\n",
    "        plt.plot(spectra, '-' ,label=label)\n",
    "\n",
    "    plt.legend()\n",
    "    plt.title(f'FT{geometry}LE Means')\n",
    "    plt.xlabel('LE Index') \n",
    "    \n",
    "    if (save == 'None'):\n",
    "        plt.show()\n",
    "    else:\n",
    "        print('Saving')\n",
    "        plt.savefig(save, dpi=1200)\n",
    "        plt.show()\n",
    "    "
   ]
  },
  {
   "cell_type": "code",
   "execution_count": null,
   "metadata": {},
   "outputs": [],
   "source": []
  },
  {
   "cell_type": "markdown",
   "metadata": {},
   "source": [
    "## Checking $k_a$"
   ]
  },
  {
   "cell_type": "code",
   "execution_count": null,
   "metadata": {},
   "outputs": [],
   "source": []
  },
  {
   "cell_type": "code",
   "execution_count": 3,
   "metadata": {},
   "outputs": [],
   "source": [
    "def fetch_observations(directory):\n",
    "    observations = [xr.open_dataset(f'{directory}/step5/{file}') for file in os.listdir(f'{directory}/step5')]\n",
    "    lyap_data = xr.concat(observations, 'time')\n",
    "    sort = lyap_data.sortby('time')\n",
    "    sort.to_netcdf(f'{directory}/step5/Processed.nc')\n",
    "    print(f'Processed data written to {directory}/step5/Processed.nc\\n')\n",
    "    print('Closing up')\n",
    "    for ds in observations:\n",
    "        ds.close()\n",
    "    return sort\n",
    "\n",
    "def fetch_experiment(directory):\n",
    "    data = []\n",
    "    for i in tqdm([int(s) for s in os.listdir(f'{directory}')]):\n",
    "        print(f'Fetching {directory}/{i}')\n",
    "        ds = fetch_observations(f'{directory}/{i}')\n",
    "        data.append(ds)\n",
    "    return data"
   ]
  },
  {
   "cell_type": "code",
   "execution_count": 4,
   "metadata": {},
   "outputs": [
    {
     "data": {
      "application/vnd.jupyter.widget-view+json": {
       "model_id": "a5ed5d6202914e6797d566d4cd4139bc",
       "version_major": 2,
       "version_minor": 0
      },
      "text/plain": [
       "HBox(children=(FloatProgress(value=0.0, max=2.0), HTML(value='')))"
      ]
     },
     "metadata": {},
     "output_type": "display_data"
    },
    {
     "name": "stdout",
     "output_type": "stream",
     "text": [
      "Fetching h-effect/1\n",
      "Processed data written to h-effect/1/step5/Processed.nc\n",
      "\n",
      "Closing up\n",
      "Fetching h-effect/2\n",
      "Processed data written to h-effect/2/step5/Processed.nc\n",
      "\n",
      "Closing up\n",
      "\n"
     ]
    }
   ],
   "source": [
    "directory = 'h-effect'\n",
    "for i in tqdm([1, 2]):\n",
    "    print(f'Fetching {directory}/{i}')\n",
    "    fetch_observations(f'{directory}/{i}')"
   ]
  },
  {
   "cell_type": "code",
   "execution_count": null,
   "metadata": {},
   "outputs": [],
   "source": [
    "for data in kb_data:\n",
    "    plt.figure()\n",
    "    plt.plot(data.time)\n",
    "    plt.show()"
   ]
  },
  {
   "cell_type": "code",
   "execution_count": 5,
   "metadata": {},
   "outputs": [],
   "source": []
  },
  {
   "cell_type": "code",
   "execution_count": null,
   "metadata": {},
   "outputs": [],
   "source": []
  }
 ],
 "metadata": {
  "kernelspec": {
   "display_name": "Python3 (personal)",
   "language": "python",
   "name": "python3_personal"
  },
  "language_info": {
   "codemirror_mode": {
    "name": "ipython",
    "version": 3
   },
   "file_extension": ".py",
   "mimetype": "text/x-python",
   "name": "python",
   "nbconvert_exporter": "python",
   "pygments_lexer": "ipython3",
   "version": "3.6.10"
  }
 },
 "nbformat": 4,
 "nbformat_minor": 2
}
