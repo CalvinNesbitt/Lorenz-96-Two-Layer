{
 "cells": [
  {
   "cell_type": "markdown",
   "metadata": {},
   "source": [
    "# L96 Ginelli Code Redevlop\n",
    "Redevoloping code to work with observers. Will then allow me to checkpoint with ease."
   ]
  },
  {
   "cell_type": "code",
   "execution_count": 25,
   "metadata": {},
   "outputs": [],
   "source": [
    "# Standard Imports\n",
    "\n",
    "import numpy as np\n",
    "import time as tm\n",
    "import pickle\n",
    "from tqdm.notebook import tqdm\n",
    "import xarray as xr\n",
    "import sys\n",
    "import os"
   ]
  },
  {
   "cell_type": "code",
   "execution_count": 26,
   "metadata": {},
   "outputs": [],
   "source": [
    "#L96 Ginelli implementation imports\n",
    "\n",
    "import l96tangent as l96t\n",
    "import ginelli\n",
    "from ginelli_observers import *"
   ]
  },
  {
   "cell_type": "markdown",
   "metadata": {},
   "source": [
    "## Working notes:\n",
    "\n",
    "- Ginelli forward steps finished. Now need to think about how we calculate FTLEs and do backwards steps."
   ]
  },
  {
   "cell_type": "markdown",
   "metadata": {},
   "source": [
    "## Example Observation of TL96\n",
    "\n",
    "Below we show how to use TL96 integrator and observer in combination"
   ]
  },
  {
   "cell_type": "code",
   "execution_count": 29,
   "metadata": {},
   "outputs": [
    {
     "data": {
      "application/vnd.jupyter.widget-view+json": {
       "model_id": "036652d5305d45d38dc6922f15187b8c",
       "version_major": 2,
       "version_minor": 0
      },
      "text/plain": [
       "HBox(children=(FloatProgress(value=0.0, max=20.0), HTML(value='')))"
      ]
     },
     "metadata": {},
     "output_type": "display_data"
    },
    {
     "name": "stdout",
     "output_type": "stream",
     "text": [
      "\n"
     ]
    }
   ],
   "source": [
    "# Make Integrator and observer Objects\n",
    "runner = l96t.Integrator(K=2, J=2)\n",
    "looker = l96t.TrajectoryObserver(runner)\n",
    "\n",
    "# Function for making observations\n",
    "def make_observations(runner, looker, obs_num, obs_freq, noprog=False):\n",
    "    \"\"\"Makes observations.\n",
    "    runner, integrator object.\n",
    "    looker, observer object.\n",
    "    obs_num, how many observations you want.\n",
    "    obs_freq, adimensional time between observations\"\"\"\n",
    "    for step in tqdm(np.repeat(obs_freq, obs_num), disable=noprog):\n",
    "        runner.integrate(obs_freq)\n",
    "        looker.look(runner)\n",
    "        \n",
    "make_observations(runner, looker, 20, 0.3)"
   ]
  },
  {
   "cell_type": "code",
   "execution_count": 30,
   "metadata": {},
   "outputs": [
    {
     "data": {
      "text/html": [
       "<pre>&lt;xarray.Dataset&gt;\n",
       "Dimensions:   (time: 20, x: 2, y: 4)\n",
       "Coordinates:\n",
       "  * time      (time) float64 0.3 0.6 0.9 1.2 1.5 1.8 ... 4.5 4.8 5.1 5.4 5.7 6.0\n",
       "  * x         (x) int64 0 1\n",
       "  * y         (y) int64 0 1 2 3\n",
       "Data variables:\n",
       "    X         (time, x) float64 2.724 2.272 3.649 3.823 ... 6.859 6.659 6.64\n",
       "    Y         (time, y) float64 3.615 0.1142 0.1827 ... -0.1979 -1.264 -2.76\n",
       "    dx        (time, x) float64 2.724 2.272 3.649 3.823 ... 6.859 6.659 6.64\n",
       "    dy        (time, y) float64 3.615 0.1142 0.1827 ... -0.1979 -1.264 -2.76\n",
       "    X_repeat  (time, y) float64 2.724 2.724 2.272 2.272 ... 6.659 6.64 6.64\n",
       "Attributes:\n",
       "    h:                    1\n",
       "    Fs:                   10\n",
       "    Ff:                   6\n",
       "    c:                    10\n",
       "    J:                    2\n",
       "    K:                    2\n",
       "    Number of variables:  6\n",
       "    b:                    4.47213595499958\n",
       "    dt:                   0.001</pre>"
      ],
      "text/plain": [
       "<xarray.Dataset>\n",
       "Dimensions:   (time: 20, x: 2, y: 4)\n",
       "Coordinates:\n",
       "  * time      (time) float64 0.3 0.6 0.9 1.2 1.5 1.8 ... 4.5 4.8 5.1 5.4 5.7 6.0\n",
       "  * x         (x) int64 0 1\n",
       "  * y         (y) int64 0 1 2 3\n",
       "Data variables:\n",
       "    X         (time, x) float64 2.724 2.272 3.649 3.823 ... 6.859 6.659 6.64\n",
       "    Y         (time, y) float64 3.615 0.1142 0.1827 ... -0.1979 -1.264 -2.76\n",
       "    dx        (time, x) float64 2.724 2.272 3.649 3.823 ... 6.859 6.659 6.64\n",
       "    dy        (time, y) float64 3.615 0.1142 0.1827 ... -0.1979 -1.264 -2.76\n",
       "    X_repeat  (time, y) float64 2.724 2.724 2.272 2.272 ... 6.659 6.64 6.64\n",
       "Attributes:\n",
       "    h:                    1\n",
       "    Fs:                   10\n",
       "    Ff:                   6\n",
       "    c:                    10\n",
       "    J:                    2\n",
       "    K:                    2\n",
       "    Number of variables:  6\n",
       "    b:                    4.47213595499958\n",
       "    dt:                   0.001"
      ]
     },
     "execution_count": 30,
     "metadata": {},
     "output_type": "execute_result"
    }
   ],
   "source": [
    "looker.observations"
   ]
  },
  {
   "cell_type": "markdown",
   "metadata": {},
   "source": [
    "## Example Ginelli Algorithm Observations\n",
    "\n",
    "Below is how you observe the Ginelli algorithm in the new code"
   ]
  },
  {
   "cell_type": "code",
   "execution_count": 31,
   "metadata": {},
   "outputs": [],
   "source": [
    "runner = l96t.Integrator(K=2, J=2)\n",
    "ginelli_stepper = ginelli.Forward(runner, 0.1) #relies on runner"
   ]
  },
  {
   "cell_type": "code",
   "execution_count": 32,
   "metadata": {},
   "outputs": [],
   "source": [
    "# Defining observers\n",
    "\n",
    "Rlooker = RMatrixObserver(ginelli_stepper)\n",
    "BLVlooker = BLVMatrixObserver(ginelli_stepper)"
   ]
  },
  {
   "cell_type": "code",
   "execution_count": 33,
   "metadata": {},
   "outputs": [],
   "source": [
    "def make_observations(runner, lookers, obs_num, obs_freq, noprog=False):\n",
    "    \"\"\"Makes observations of Ginelli Algorithm.\n",
    "    runner, ginelli.Forward object.\n",
    "    looker, ginelli observer objects.\n",
    "    obs_num, how many observations you want.\n",
    "    obs_freq,  time between observations\"\"\"\n",
    "    for step in tqdm(np.repeat(obs_freq, obs_num), disable=noprog):\n",
    "        runner.run(obs_freq)\n",
    "        for looker in lookers:\n",
    "            looker.look(runner)"
   ]
  },
  {
   "cell_type": "code",
   "execution_count": 34,
   "metadata": {},
   "outputs": [
    {
     "data": {
      "application/vnd.jupyter.widget-view+json": {
       "model_id": "1152b7d022394a22aefa73ad0d212bbe",
       "version_major": 2,
       "version_minor": 0
      },
      "text/plain": [
       "HBox(children=(FloatProgress(value=0.0, max=2.0), HTML(value='')))"
      ]
     },
     "metadata": {},
     "output_type": "display_data"
    },
    {
     "name": "stdout",
     "output_type": "stream",
     "text": [
      "\n"
     ]
    }
   ],
   "source": [
    "make_observations(ginelli_stepper, [Rlooker, BLVlooker], 2, 2)"
   ]
  },
  {
   "cell_type": "code",
   "execution_count": 35,
   "metadata": {},
   "outputs": [
    {
     "data": {
      "text/html": [
       "<pre>&lt;xarray.Dataset&gt;\n",
       "Dimensions:   (le_index: 6, row: 6, time: 2)\n",
       "Coordinates:\n",
       "  * time      (time) float64 0.2 0.4\n",
       "  * le_index  (le_index) int64 1 2 3 4 5 6\n",
       "Dimensions without coordinates: row\n",
       "Data variables:\n",
       "    BLV       (time, row, le_index) float64 -0.05678 -0.03769 ... -0.009038\n",
       "Attributes:\n",
       "    h:                    1\n",
       "    Fs:                   10\n",
       "    Ff:                   6\n",
       "    c:                    10\n",
       "    J:                    2\n",
       "    K:                    2\n",
       "    Number of variables:  6\n",
       "    b:                    4.47213595499958\n",
       "    dt:                   0.001\n",
       "    tau:                  0.1</pre>"
      ],
      "text/plain": [
       "<xarray.Dataset>\n",
       "Dimensions:   (le_index: 6, row: 6, time: 2)\n",
       "Coordinates:\n",
       "  * time      (time) float64 0.2 0.4\n",
       "  * le_index  (le_index) int64 1 2 3 4 5 6\n",
       "Dimensions without coordinates: row\n",
       "Data variables:\n",
       "    BLV       (time, row, le_index) float64 -0.05678 -0.03769 ... -0.009038\n",
       "Attributes:\n",
       "    h:                    1\n",
       "    Fs:                   10\n",
       "    Ff:                   6\n",
       "    c:                    10\n",
       "    J:                    2\n",
       "    K:                    2\n",
       "    Number of variables:  6\n",
       "    b:                    4.47213595499958\n",
       "    dt:                   0.001\n",
       "    tau:                  0.1"
      ]
     },
     "execution_count": 35,
     "metadata": {},
     "output_type": "execute_result"
    }
   ],
   "source": [
    "BLVlooker.observations"
   ]
  },
  {
   "cell_type": "code",
   "execution_count": null,
   "metadata": {},
   "outputs": [],
   "source": []
  }
 ],
 "metadata": {
  "kernelspec": {
   "display_name": "Python3 (personal)",
   "language": "python",
   "name": "python3_personal"
  },
  "language_info": {
   "codemirror_mode": {
    "name": "ipython",
    "version": 3
   },
   "file_extension": ".py",
   "mimetype": "text/x-python",
   "name": "python",
   "nbconvert_exporter": "python",
   "pygments_lexer": "ipython3",
   "version": "3.6.10"
  }
 },
 "nbformat": 4,
 "nbformat_minor": 2
}
