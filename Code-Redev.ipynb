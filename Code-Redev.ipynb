{
 "cells": [
  {
   "cell_type": "markdown",
   "metadata": {},
   "source": [
    "# L96 Ginelli Code Redevlop\n",
    "Redevoloping code to work with observers. Will then allow me to checkpoint with ease."
   ]
  },
  {
   "cell_type": "code",
   "execution_count": null,
   "metadata": {},
   "outputs": [],
   "source": [
    "# Standard Imports\n",
    "\n",
    "import numpy as np\n",
    "import time as tm\n",
    "import pickle\n",
    "from tqdm.notebook import tqdm\n",
    "import xarray as xr\n",
    "import sys\n",
    "import os"
   ]
  },
  {
   "cell_type": "markdown",
   "metadata": {},
   "source": [
    "## Working notes:\n",
    "\n",
    "- Need to make Ginelli object. Design should be independent of integrator being used.\n",
    "- Need observer of Ginelli algorithm. Think through design carefully."
   ]
  },
  {
   "cell_type": "markdown",
   "metadata": {},
   "source": [
    "## Example Observation of TL96\n",
    "\n",
    "Below we show how to use TL96 integrator and observer in combination"
   ]
  },
  {
   "cell_type": "code",
   "execution_count": 15,
   "metadata": {},
   "outputs": [],
   "source": [
    "from tangent_integrator import * # Defines integrator and observer classes for TL96\n",
    "\n",
    "# Make Integrato and observer Objects\n",
    "runner = TangentIntegratorL96(K=2, J=2)\n",
    "looker = L96TrajectoryObserver(runner)\n",
    "\n",
    "# Function for making observations\n",
    "def make_observations(runner, looker, obs_num, obs_freq, noprog=False):\n",
    "    \"\"\"Makes observations.\n",
    "    runner, integrator object.\n",
    "    looker, observer object.\n",
    "    obs_num, how many observations you want.\n",
    "    obs_freq, adimensional time between observations\"\"\"\n",
    "    for step in tqdm(np.repeat(observe_freq, obs_num), disable=noprog):\n",
    "        runner.integrate(observe_freq)\n",
    "        looker.look(runner)\n",
    "        \n",
    "make_observations(runner, looker, 20, 0.3)"
   ]
  },
  {
   "cell_type": "markdown",
   "metadata": {},
   "source": [
    "# Ginelli Development"
   ]
  },
  {
   "cell_type": "code",
   "execution_count": null,
   "metadata": {},
   "outputs": [],
   "source": [
    "def posQR(M):\n",
    "    \"\"\" Returns QR decomposition of a matrix with positive diagonals on R.\n",
    "    Parameter, M: Array that is being decomposed\n",
    "    \"\"\"\n",
    "    Q, R = np.linalg.qr(M) # Performing QR decomposition\n",
    "    signs = np.diag(np.sign(np.diagonal(R))) # Matrix with signs of R diagonal on the diagonal\n",
    "    Q, R = np.dot(Q, signs), np.dot(signs, R) # Ensuring R Diagonal is positive\n",
    "    return Q, R\n",
    "\n",
    "class GinelliL96(TangentIntegratorL96):\n",
    "    \"\"\"Builds upon a tangent integrator class to perform the Ginelli algorithm\"\"\"\n",
    "    \n",
    "    def __init__(self, ka, kb, kc, tau=0.1, K=36, J=10, h=1, Ff=6, Fs=10, c=10, dt=0.001, save_every=10,\n",
    "                 X_init=None, Y_init=None, dx_init=None, dy_init=None, noprog=True):\n",
    "        \n",
    "        self.save_every = save_every # how many tau steps we save\n",
    "        run_save_step = (self.save_every * tau)/dt\n",
    "        \n",
    "        super().__init__(K=K, J=J, h=h, Ff=Ff, Fs=Fs, c=c, dt=dt, save_every=run_save_step,\n",
    "                 X_init=X_init, Y_init=Y_init, dx_init=dx_init, dy_init=dy_init, noprog=noprog)\n",
    "        \n",
    "        # Ginelli Parameters\n",
    "        self.ka, self.kb, self.kc, self.tau = ka, kb, kc, tau\n",
    "    \n",
    "        # Ginelli Variables\n",
    "        self.P = np.random.rand(self.size, self.size) # Stretched Matrix\n",
    "        eps = 0.001\n",
    "        self.oldQ = eps * np.identity(self.size)\n",
    "        self.oldQ[0, 1] = eps * 1\n",
    "        self.R = np.random.rand(self.size, self.size)  # Stretching rates\n",
    "        self._history_R = []\n",
    "        self.oldA = np.identity(self.size) # Initial A\n",
    "        self.oldA[0, 1] = 1\n",
    "\n",
    "        # Lyapunov Spectra\n",
    "        self.FTBLE = np.random.rand(int(self.kb), self.size)\n",
    "        self.FTCLE = np.random.rand(int(self.kb), self.size)\n",
    "        self._history_FTBLE = [] # For storing time series\n",
    "        self._history_FTCLE = []\n",
    "\n",
    "        # Lyapunov Vectors\n",
    "        self.BLV = np.random.rand(self.size, self.size)\n",
    "        self.CLV = np.random.rand(self.size, self.size)\n",
    "        self._history_BLV = []\n",
    "        self._history_CLV = []\n",
    "        \n",
    "        self.ginelli_count = 0 # Number of QR steps performed\n",
    "        \n",
    "    def _ginelli_step(self):\n",
    "        \"\"\"One QR step. Take old Q, stretch it, do a QR decomposition.\"\"\"\n",
    "\n",
    "        # Where we are in phase space before ginelli step\n",
    "        phase_state = self.state[:self.size]\n",
    "\n",
    "        # Stretching first column\n",
    "        self.set_state(phase_state, self.oldQ.T[0]) # First column of Q is ic for TLE\n",
    "        self.integrate(self.tau)\n",
    "\n",
    "        # Saving Output\n",
    "        self.P[:, 0] = np.append(self.dx, self.dy)\n",
    "\n",
    "        # Stretching the rest of the columns\n",
    "        for i, column in enumerate(self.oldQ.T[1:]): # Evolve each CLV\n",
    "            self.set_state(phase_state, column)\n",
    "            self._integrate(self.tau)\n",
    "            self.P[:, i] = np.append(self.dx, self.dy) # Building P\n",
    "\n",
    "        # QR decomposition\n",
    "        self.oldQ, self.R = posQR(self.P)\n",
    "        self.ginelli_count += 1\n",
    "\n",
    "    \n",
    "    @property\n",
    "    def le_data(self):\n",
    "        \"\"\"Returns xarray of LEs and LVs\"\"\"\n",
    "        if (len(self._history_X) == 0):\n",
    "            print('No history to look at!')\n",
    "        dic = {}\n",
    "        _time = np.arange(self.ginelli_count - (len(self._history_FTBLE) - 1) * self.save_every,\n",
    "                          self.ginelli_count + 1, self.save_every) * self.tau \n",
    "        # Notice we add step count. Might change run_data if you have cleared history.\n",
    "        \n",
    "        dic['FTBLE'] = xr.DataArray(self._history_FTBLE, dims=['time', 'le_index'], name='FTBLE',\n",
    "                                coords = {'time': _time,'le_index':np.arange(1, 1 + self.size)})\n",
    "        dic['FTCLE'] = xr.DataArray(self._history_FTCLE, dims=['time', 'le_index'], name='FTCLE',\n",
    "                                coords = {'time': _time,'le_index':np.arange(1, 1 + self.size)})\n",
    "        dic['BLV'] = xr.DataArray(self._history_BLV, dims=['time', 'component', 'le_index'], name='BLV',\n",
    "                                coords = {'time': _time,'le_index':np.arange(1, 1 + self.size),\n",
    "                                  'component': np.arange(self.size), 'le_index':np.arange(1, 1 + self.size)})\n",
    "        dic['CLV'] = xr.DataArray(self._history_CLV, dims=['time', 'component', 'le_index'], name='CLV',\n",
    "                                coords = {'time': _time,'le_index':np.arange(1, 1 + self.size),\n",
    "                                  'component': np.arange(self.size), 'le_index':np.arange(1, 1 + self.size)})\n",
    "        \n",
    "        return xr.Dataset(dic, attrs = self.ginelli_dict)\n",
    "        "
   ]
  },
  {
   "cell_type": "code",
   "execution_count": null,
   "metadata": {},
   "outputs": [],
   "source": [
    "ginelliRunner = GinelliL96(1,1,1,1)"
   ]
  },
  {
   "cell_type": "code",
   "execution_count": null,
   "metadata": {},
   "outputs": [],
   "source": [
    "ginelliRunner.integrate(1)"
   ]
  },
  {
   "cell_type": "code",
   "execution_count": null,
   "metadata": {},
   "outputs": [],
   "source": [
    "ginelliRunner.le_data"
   ]
  },
  {
   "cell_type": "code",
   "execution_count": null,
   "metadata": {},
   "outputs": [],
   "source": [
    "ginelliRunner.run_data"
   ]
  },
  {
   "cell_type": "code",
   "execution_count": null,
   "metadata": {},
   "outputs": [],
   "source": []
  }
 ],
 "metadata": {
  "kernelspec": {
   "display_name": "Python3 (personal)",
   "language": "python",
   "name": "python3_personal"
  },
  "language_info": {
   "codemirror_mode": {
    "name": "ipython",
    "version": 3
   },
   "file_extension": ".py",
   "mimetype": "text/x-python",
   "name": "python",
   "nbconvert_exporter": "python",
   "pygments_lexer": "ipython3",
   "version": "3.6.10"
  }
 },
 "nbformat": 4,
 "nbformat_minor": 2
}
