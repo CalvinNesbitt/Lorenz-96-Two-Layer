{
 "cells": [
  {
   "cell_type": "markdown",
   "metadata": {},
   "source": [
    "# L96 Ginelli Code Redevlop\n",
    "Redevoloping code to work with observers. Will then allow me to checkpoint with ease."
   ]
  },
  {
   "cell_type": "markdown",
   "metadata": {},
   "source": [
    "## Working notes:\n",
    "\n",
    "- Ginelli forward steps finished. Now need to think about how we calculate FTLEs and do backwards steps."
   ]
  },
  {
   "cell_type": "markdown",
   "metadata": {},
   "source": [
    "## Example Ginelli Forward Simulation\n",
    "\n",
    "Here we write an example simulation of the forward phase of the Ginelli algorithm for two layer Lorenz 96."
   ]
  },
  {
   "cell_type": "code",
   "execution_count": 1,
   "metadata": {},
   "outputs": [],
   "source": [
    "# Standard Imports\n",
    "\n",
    "import numpy as np\n",
    "import time as tm\n",
    "import pickle\n",
    "from tqdm.notebook import tqdm\n",
    "import xarray as xr\n",
    "import sys\n",
    "import os"
   ]
  },
  {
   "cell_type": "code",
   "execution_count": 2,
   "metadata": {},
   "outputs": [],
   "source": [
    "# Lorenz 96 import\n",
    "import l96tangent as l96t \n",
    "\n",
    "# Ginelli imports\n",
    "import ginelli\n",
    "from ginelli_observers import *"
   ]
  },
  {
   "cell_type": "code",
   "execution_count": 3,
   "metadata": {},
   "outputs": [
    {
     "name": "stdout",
     "output_type": "stream",
     "text": [
      "Made directory ginelli.\n",
      "\n",
      "Made directory ginelli/step2.\n",
      "\n",
      "Made directory ginelli/step2/R.\n",
      "\n",
      "Made directory ginelli/step2/BLV.\n",
      "\n",
      "Made directory ginelli/step3.\n",
      "\n",
      "Made directory ginelli/step4.\n",
      "\n",
      "Made directory ginelli/step5.\n",
      "\n"
     ]
    }
   ],
   "source": [
    "\"\"\"\n",
    "Setup\n",
    "-----------------------------------------\n",
    "\"\"\"\n",
    "# Memory parameters\n",
    "dump_size = 5 # How many observation before dumping\n",
    "\n",
    "# Time Parameter Choices\n",
    "tau = 0.2\n",
    "\n",
    "transient = 1.0 # adimensional time\n",
    "ka = 5\n",
    "kb = 15 # Number of BLV observations we want\n",
    "kc = 12\n",
    "\n",
    "# Runners\n",
    "runner = l96t.Integrator(K=2, J=2)\n",
    "ginelli_runner = ginelli.Forward(runner, tau) #relies on runner\n",
    "\n",
    "# Observables\n",
    "Rlooker = RMatrixObserver(ginelli_runner)\n",
    "BLVlooker = BLVMatrixObserver(ginelli_runner)\n",
    "\n",
    "ginelli.make_cupboard() "
   ]
  },
  {
   "cell_type": "code",
   "execution_count": 4,
   "metadata": {},
   "outputs": [
    {
     "name": "stdout",
     "output_type": "stream",
     "text": [
      "\n",
      "Transient beginning.\n",
      "\n"
     ]
    },
    {
     "data": {
      "application/vnd.jupyter.widget-view+json": {
       "model_id": "17bd41a069834b438c71df0545438865",
       "version_major": 2,
       "version_minor": 0
      },
      "text/plain": [
       "HBox(children=(FloatProgress(value=0.0, max=1000.0), HTML(value='')))"
      ]
     },
     "metadata": {},
     "output_type": "display_data"
    },
    {
     "name": "stdout",
     "output_type": "stream",
     "text": [
      "\n",
      "\n",
      "Transient finished. Beginning BLV convergence steps.\n",
      "\n"
     ]
    },
    {
     "data": {
      "application/vnd.jupyter.widget-view+json": {
       "model_id": "992734b725dc47dabe2eec1f9a4dd2b8",
       "version_major": 2,
       "version_minor": 0
      },
      "text/plain": [
       "HBox(children=(FloatProgress(value=0.0, max=5.0), HTML(value='')))"
      ]
     },
     "metadata": {},
     "output_type": "display_data"
    },
    {
     "name": "stdout",
     "output_type": "stream",
     "text": [
      "\n",
      "\n",
      "BLV convergence finished. Beginning to observe BLVs.\n",
      "\n",
      "Observations written to ginelli/step2/R/R1.nc. Erasing personal log.\n",
      "\n",
      "Observations written to ginelli/step2/BLV/BLV1.nc. Erasing personal log.\n",
      "\n",
      "Observations written to ginelli/step2/R/R2.nc. Erasing personal log.\n",
      "\n",
      "Observations written to ginelli/step2/BLV/BLV2.nc. Erasing personal log.\n",
      "\n",
      "Observations written to ginelli/step2/R/R3.nc. Erasing personal log.\n",
      "\n",
      "Observations written to ginelli/step2/BLV/BLV3.nc. Erasing personal log.\n",
      "\n",
      "I have no observations! :(\n",
      "I have no observations! :(\n",
      "\n",
      "BLV observations finished. CLV convergence beginning. Just observing Rs.\n",
      "\n",
      "Observations written to ginelli/step3/R4.nc. Erasing personal log.\n",
      "\n",
      "Observations written to ginelli/step3/R5.nc. Erasing personal log.\n",
      "\n",
      "Observations written to ginelli/step3/R6.nc. Erasing personal log.\n",
      "\n",
      "\n",
      "Forward part all done :)\n"
     ]
    }
   ],
   "source": [
    "\"\"\"\n",
    "-----------------------------------------\n",
    "Forward Part of Ginelli Algorithm\n",
    "-----------------------------------------\n",
    "\"\"\"\n",
    "print('\\nTransient beginning.\\n')\n",
    "runner.integrate(transient, noprog=False)\n",
    "print('\\nTransient finished. Beginning BLV convergence steps.\\n')\n",
    "\n",
    "# BLV Convergence steps\n",
    "\n",
    "ginelli_runner.run(ka, noprog=False) \n",
    "\n",
    "# BLV and R Observation steps\n",
    "\n",
    "print('\\nBLV convergence finished. Beginning to observe BLVs.\\n')\n",
    "blocks = int(kb/dump_size) # How many times we dump\n",
    "remainder = kb%dump_size # Rest of observations\n",
    "\n",
    "for i in range(blocks):\n",
    "    \n",
    "    ginelli.make_observations(ginelli_runner, [Rlooker, BLVlooker], dump_size, 1) \n",
    "    # Observation frequency has to be 1 if we're reversing CLVs\n",
    "    Rlooker.dump('ginelli/step2/R')\n",
    "    BLVlooker.dump('ginelli/step2/BLV')\n",
    "\n",
    "ginelli.make_observations(ginelli_runner, [Rlooker, BLVlooker], remainder, 1)\n",
    "Rlooker.dump('ginelli/step2/R')\n",
    "BLVlooker.dump('ginelli/step2/BLV')\n",
    "\n",
    "# CLV Convergence Steps, just observe the Rs\n",
    "\n",
    "print('\\nBLV observations finished. CLV convergence beginning. Just observing Rs.\\n')\n",
    "blocks = int(kc/dump_size) \n",
    "remainder = kc%dump_size \n",
    "\n",
    "for i in range(blocks):\n",
    "    \n",
    "    ginelli.make_observations(ginelli_runner, [Rlooker], dump_size, 1)\n",
    "    Rlooker.dump('ginelli/step3')\n",
    "\n",
    "ginelli.make_observations(ginelli_runner, [Rlooker], remainder, 1)\n",
    "Rlooker.dump('ginelli/step3')  \n",
    "print('\\nForward part all done :)')"
   ]
  },
  {
   "cell_type": "markdown",
   "metadata": {},
   "source": [
    "## Backwards portion of Ginelli Algorithm Devlopment"
   ]
  },
  {
   "cell_type": "code",
   "execution_count": 5,
   "metadata": {},
   "outputs": [],
   "source": [
    "\"\"\"\n",
    "-------------------------------------------\n",
    "Backward part of Ginelli Algorithm\n",
    "-------------------------------------------\n",
    "\"\"\"\n",
    "\n",
    "\n",
    "\"\"\"Function for CLV Convergence Steps\"\"\"   \n",
    "\n",
    "def block_squish_norm(R_history, A):\n",
    "    \"\"\"CLV convergence steps.\n",
    "    Give a timeseries of R's, push A back through the timeseries, normalising as you go.\"\"\"\n",
    "    norms = np.linalg.norm(A, axis=0, ord=2)\n",
    "    normedA = A/norms\n",
    "    for R in np.flip(R_history.R, axis = 0):\n",
    "        squishedA = np.linalg.solve(R, normedA)\n",
    "        norms = np.linalg.norm(squishedA, axis=0, ord=2)\n",
    "        normedA = squishedA/norms\n",
    "    return normedA"
   ]
  },
  {
   "cell_type": "code",
   "execution_count": 6,
   "metadata": {},
   "outputs": [
    {
     "name": "stdout",
     "output_type": "stream",
     "text": [
      "Pushed A through R6.nc. Overwriting A.npy.\n",
      "\n",
      "Pushed A through R5.nc. Overwriting A.npy.\n",
      "\n",
      "Pushed A through R4.nc. Overwriting A.npy.\n",
      "\n"
     ]
    }
   ],
   "source": [
    "\"\"\" \n",
    "Ginelli Algorithm Step 4, CLV Convergence Steps\n",
    "\"\"\"\n",
    "R_files = os.listdir('ginelli/step3')\n",
    "R_files.sort(reverse=True) # Ensuring files are in the right order\n",
    "\n",
    "A = np.identity(ginelli_runner.size)\n",
    "\n",
    "for file in R_files:\n",
    "    R_history = xr.open_dataset('ginelli/step3/' + file)\n",
    "    A = block_squish_norm(R_history, A) # This A is one timestep ahead of the R that pushed it\n",
    "    R_history.close()\n",
    "    print(f'Pushed A through {file}. Overwriting A.npy.\\n')\n",
    "    np.save('ginelli/step4/A.npy', A)"
   ]
  },
  {
   "cell_type": "code",
   "execution_count": 8,
   "metadata": {},
   "outputs": [
    {
     "name": "stdout",
     "output_type": "stream",
     "text": [
      "Observations written to ginelli/step5/LyapObs3.nc. Erasing personal log.\n",
      "\n",
      "Observations written to ginelli/step5/LyapObs2.nc. Erasing personal log.\n",
      "\n",
      "Observations written to ginelli/step5/LyapObs1.nc. Erasing personal log.\n",
      "\n"
     ]
    }
   ],
   "source": [
    "\"\"\"\n",
    "Ginelli Algorithm Step 5, CLV Observation Steps\n",
    "\"\"\"\n",
    "# Sorting files we will be working with\n",
    "\n",
    "def max_digit(strings):\n",
    "    \"\"\"Finds the max digit in a list of strings.\"\"\"\n",
    "    numbers = []\n",
    "    for string in strings:\n",
    "        for s in string:\n",
    "            if s.isdigit():\n",
    "                numbers.append(int(s))\n",
    "    return max(numbers)\n",
    "\n",
    "R_files = os.listdir('ginelli/step2/R')\n",
    "R_files.sort(reverse=True) \n",
    "\n",
    "BLV_files = os.listdir('ginelli/step2/BLV')\n",
    "BLV_files.sort(reverse=True)\n",
    "\n",
    "# Setting up observable storage\n",
    "\n",
    "parameters = ginelli_runner.parameter_dict.copy().update({'transient':transient,'ka':ka, 'kb':kb})\n",
    "LyapunovLooker = LyapunovObserver(parameters, max_digit(BLV_files))\n",
    "\n",
    "\n",
    "for [rfile, bfile] in zip(R_files, BLV_files): # Loop over files that were dumped\n",
    "    R_history = xr.open_dataset('ginelli/step2/R/' + rfile) # Dataset\n",
    "    BLV_history = xr.open_dataset('ginelli/step2/BLV/' + bfile)\n",
    "    \n",
    "    Rs, BLVs = np.flip(R_history.R, axis = 0), np.flip(BLV_history.BLV, axis = 0) # Times series reversed\n",
    "    \n",
    "    for R, BLV in zip(Rs, BLVs): # Calculating CLVs\n",
    "        \n",
    "        # CLV Calculation\n",
    "        CLV = np.matmul(BLV.values, A)\n",
    "        \n",
    "        # FTCLE Calculation\n",
    "        squishedA = np.linalg.solve(R, A)\n",
    "        norms = np.linalg.norm(squishedA, axis=0, ord=2)\n",
    "        ftcle = - np.log(norms)/(tau)\n",
    "        A = squishedA/norms\n",
    "        \n",
    "        # FTBLE Calculation\n",
    "        ftble = np.log(np.diag(R))/(tau)\n",
    "        \n",
    "        # Making observation\n",
    "        LyapunovLooker.look(R.time, CLV, BLV, ftcle, ftble)\n",
    "        \n",
    "        \n",
    "    LyapunovLooker.dump('ginelli/step5')\n",
    "    R_history.close()\n",
    "    BLV_history.close()\n"
   ]
  }
 ],
 "metadata": {
  "kernelspec": {
   "display_name": "Python3 (personal)",
   "language": "python",
   "name": "python3_personal"
  },
  "language_info": {
   "codemirror_mode": {
    "name": "ipython",
    "version": 3
   },
   "file_extension": ".py",
   "mimetype": "text/x-python",
   "name": "python",
   "nbconvert_exporter": "python",
   "pygments_lexer": "ipython3",
   "version": "3.6.10"
  }
 },
 "nbformat": 4,
 "nbformat_minor": 2
}
