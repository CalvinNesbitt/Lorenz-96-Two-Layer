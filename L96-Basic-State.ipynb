{
 "cells": [
  {
   "cell_type": "markdown",
   "metadata": {},
   "source": [
    "# L96 Basic State\n",
    "\n",
    "In this notebook we have plotted some basic statistics of the two layer L96 system. In particular:\n",
    "\n",
    "- Pdfs of synoptic and convective scale variables\n",
    "- Time correlations of synoptic scale variables"
   ]
  },
  {
   "cell_type": "code",
   "execution_count": null,
   "metadata": {},
   "outputs": [],
   "source": [
    "import numpy as np\n",
    "import numpy.random as random\n",
    "import xarray as xr\n",
    "import sys\n",
    "import matplotlib.pyplot as plt\n",
    "from tqdm.notebook import tqdm \n",
    "from scipy.stats import gaussian_kde"
   ]
  },
  {
   "cell_type": "code",
   "execution_count": null,
   "metadata": {},
   "outputs": [],
   "source": [
    "import l96adaptive as l96\n",
    "from l96adaptive import make_observations"
   ]
  },
  {
   "cell_type": "code",
   "execution_count": null,
   "metadata": {},
   "outputs": [],
   "source": [
    "directory = 'L96-Statistics-Plots' # Will save some plots here"
   ]
  },
  {
   "cell_type": "markdown",
   "metadata": {},
   "source": [
    "### Getting Some Data"
   ]
  },
  {
   "cell_type": "code",
   "execution_count": 4,
   "metadata": {},
   "outputs": [
    {
     "data": {
      "application/vnd.jupyter.widget-view+json": {
       "model_id": "5c1df3a8978c4ee1a9d97196f6802f56",
       "version_major": 2,
       "version_minor": 0
      },
      "text/plain": [
       "HBox(children=(FloatProgress(value=0.0, max=10000.0), HTML(value='')))"
      ]
     },
     "metadata": {},
     "output_type": "display_data"
    },
    {
     "name": "stdout",
     "output_type": "stream",
     "text": [
      "\n"
     ]
    }
   ],
   "source": [
    "runner = l96.Integrator()\n",
    "looker = l96.TrajectoryObserver(runner)\n",
    "\n",
    "make_observations(runner, looker, 10000, 0.01)"
   ]
  },
  {
   "cell_type": "code",
   "execution_count": 5,
   "metadata": {},
   "outputs": [],
   "source": [
    "data = looker.observations"
   ]
  },
  {
   "cell_type": "markdown",
   "metadata": {},
   "source": [
    "### Plotting Synoptic Scale Pdfs"
   ]
  },
  {
   "cell_type": "code",
   "execution_count": 6,
   "metadata": {},
   "outputs": [],
   "source": [
    "# Plotting PDF of X in a single sector\n",
    "\n",
    "def kde_pdf(samples, title, xlabel='', save=None):\n",
    "    fig, ax = plt.subplots()\n",
    "    x_d = np.linspace(samples.min() - 1, samples.max() + 1, 1000) # Grid we evaluate PDF on\n",
    "    kde = gaussian_kde(samples) # KDE. Using Gaussian ker\n",
    "    pdf = kde.evaluate(x_d)\n",
    "    ax.plot(x_d, pdf)\n",
    "    ax.set_ylabel('$\\\\rho$')\n",
    "    ax.set_xlabel(xlabel)\n",
    "    #ax.plot(samples, np.full_like(samples, -0.01), 'k*', label='samples')\n",
    "    #ax.legend()\n",
    "    ax.grid()\n",
    "    ax.set_title(title)\n",
    "    if (save!=None):\n",
    "        print(f'Saving plot at {save}')\n",
    "        fig.savefig(save, dpi=1200)\n",
    "    fig.show()"
   ]
  },
  {
   "cell_type": "code",
   "execution_count": 7,
   "metadata": {},
   "outputs": [],
   "source": [
    "indices = random.choice(data.X.K.values, size = (10), replace = False)\n",
    "Xs = [data.X.sel(K = i) for i in indices]"
   ]
  },
  {
   "cell_type": "code",
   "execution_count": null,
   "metadata": {},
   "outputs": [],
   "source": [
    "for X in Xs:\n",
    "    index = X.K.item()\n",
    "    title = f'Synoptic Variable Pdf, k = {index}'\n",
    "    kde_pdf(X.values, title, xlabel = '$X_k$')"
   ]
  },
  {
   "cell_type": "code",
   "execution_count": null,
   "metadata": {},
   "outputs": [],
   "source": [
    "# Saving a Figure\n",
    "X = Xs[0]\n",
    "index = X.K.item()\n",
    "title = f'Synoptic Variable Pdf, k = {index}'\n",
    "kde_pdf(X.values, title, xlabel = '$X_k$', save = directory + '/Synoptic-Scale-PDF.png')"
   ]
  },
  {
   "cell_type": "markdown",
   "metadata": {},
   "source": [
    "### Plotting Convective Scale Pdfs"
   ]
  },
  {
   "cell_type": "code",
   "execution_count": null,
   "metadata": {},
   "outputs": [],
   "source": [
    "indices = random.choice(data.Y.KJ.values, size = (10), replace = False)\n",
    "Ys = [data.Y.sel(KJ = i) for i in indices]"
   ]
  },
  {
   "cell_type": "code",
   "execution_count": null,
   "metadata": {},
   "outputs": [],
   "source": [
    "for Y in Ys:\n",
    "    index = Y.KJ.item()\n",
    "    title = f'Convective Variable Pdf, kj = {index}'\n",
    "    kde_pdf(Y.values, title, xlabel = '$Y_kj$')"
   ]
  },
  {
   "cell_type": "code",
   "execution_count": null,
   "metadata": {},
   "outputs": [],
   "source": [
    "# Saving a Figure\n",
    "Y = Ys[0]\n",
    "index = Y.KJ.item()\n",
    "title = f'Convective Variable Pdf, kj = {index}'\n",
    "kde_pdf(Y.values, title, xlabel = '$Y_kj$', save = directory + '/Convective-Scale-PDF.png')"
   ]
  },
  {
   "cell_type": "markdown",
   "metadata": {},
   "source": [
    "### Time Autocorrelations"
   ]
  },
  {
   "cell_type": "code",
   "execution_count": null,
   "metadata": {},
   "outputs": [],
   "source": [
    "dt = 0.01 # Time between observations"
   ]
  },
  {
   "cell_type": "code",
   "execution_count": null,
   "metadata": {},
   "outputs": [],
   "source": [
    "# Function to calculated integrated autocorrelations\n",
    "\n",
    "def autocorr(x, t=1):\n",
    "    return np.corrcoef(np.array([x[:-t], x[t:]]))\n",
    "\n",
    "def autocorr_series(time_series, lags):\n",
    "    \"\"\"\n",
    "    Returns list of autocorrelation for a list of lags\n",
    "    \"\"\"\n",
    "    autocorrs = [np.corrcoef(time_series)]\n",
    "    for lag in lags:\n",
    "            ac = autocorr(time_series, lag)[1,0]\n",
    "            autocorrs.append(ac)\n",
    "    return autocorrs\n",
    "\n",
    "def integrated_autocorr(time_series, lags, dx):\n",
    "    \"\"\"\n",
    "    Returns integrated autocorrelation. x-axis of integration is lag series.\n",
    "    \"\"\"\n",
    "    auto_correlations = autocorr_series(time_series, lags)\n",
    "    return np.trapz(auto_correlations, dx=dx)"
   ]
  },
  {
   "cell_type": "code",
   "execution_count": null,
   "metadata": {},
   "outputs": [],
   "source": [
    "# Calculating Autocorrelation function\n",
    "lags = np.arange(1, int(3/dt))\n",
    "correlations = [autocorr_series(X.values, lags) for X in Xs]"
   ]
  },
  {
   "cell_type": "code",
   "execution_count": null,
   "metadata": {},
   "outputs": [],
   "source": [
    "# Plotting Autocorrelation Functions\n",
    "\n",
    "fig, ax = plt.subplots(figsize = (12, 8))\n",
    "dt = 0.01\n",
    "\n",
    "time_points = dt * np.hstack((0, lags))\n",
    "ax.plot(time_points, correlations[0], '.-')\n",
    "ax.set_ylabel('Lagged Autocorrleation')\n",
    "ax.set_xlabel('Lag (Adimensional Time)')\n",
    "ax.set_title(f'Synoptic Variable Time Autocorrelation Function')\n",
    "ax.set_xlim((0, 3))\n",
    "ax.grid()\n",
    "\n",
    "fig.savefig(directory + '/Synoptic-Time-Correlations.png', dpi=1200)\n",
    "fig.show()"
   ]
  },
  {
   "cell_type": "code",
   "execution_count": null,
   "metadata": {},
   "outputs": [],
   "source": []
  }
 ],
 "metadata": {
  "kernelspec": {
   "display_name": "Python3 (personal)",
   "language": "python",
   "name": "python3_personal"
  },
  "language_info": {
   "codemirror_mode": {
    "name": "ipython",
    "version": 3
   },
   "file_extension": ".py",
   "mimetype": "text/x-python",
   "name": "python",
   "nbconvert_exporter": "python",
   "pygments_lexer": "ipython3",
   "version": "3.6.10"
  }
 },
 "nbformat": 4,
 "nbformat_minor": 2
}
