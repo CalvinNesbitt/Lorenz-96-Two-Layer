{
 "cells": [
  {
   "cell_type": "markdown",
   "metadata": {},
   "source": [
    "# Lorenz 96 Tangent Integrator Test\n",
    "\n",
    "In this notebook we test the L96 tangent integrator."
   ]
  },
  {
   "cell_type": "code",
   "execution_count": null,
   "metadata": {},
   "outputs": [],
   "source": [
    "# -----------------------------------------\n",
    "# Imports\n",
    "# -----------------------------------------\n",
    "\n",
    "# Standard Modules\n",
    "import numpy as np\n",
    "import pickle\n",
    "import time as tm\n",
    "import xarray as xr\n",
    "import os\n",
    "import matplotlib.pyplot as plt\n",
    "import random\n",
    "\n",
    "# Lorenz 96 integrator\n",
    "import l96tangent as l96t\n",
    "from l96tangent import make_observations\n",
    "\n",
    "# Ginelli Imports\n",
    "import ginelli_utilities as utilities\n",
    "from ginelli_observers import *\n",
    "from ginelli_plot import *"
   ]
  },
  {
   "cell_type": "code",
   "execution_count": null,
   "metadata": {},
   "outputs": [],
   "source": [
    "# Definining Integrator and Observables\n",
    "\n",
    "runner = l96t.Integrator(K=36, J=10)\n",
    "trajectory_looker = l96t.TrajectoryObserver(runner)"
   ]
  },
  {
   "cell_type": "code",
   "execution_count": null,
   "metadata": {},
   "outputs": [],
   "source": [
    "#runner.integrate(3)"
   ]
  },
  {
   "cell_type": "code",
   "execution_count": null,
   "metadata": {},
   "outputs": [],
   "source": [
    "# Observing an integration\n",
    "num_obs = 1000\n",
    "obs_freq = 1.e-3\n",
    "\n",
    "\n",
    "make_observations(runner, trajectory_looker, num_obs, obs_freq)"
   ]
  },
  {
   "cell_type": "code",
   "execution_count": null,
   "metadata": {},
   "outputs": [],
   "source": [
    "data = trajectory_looker.observations"
   ]
  },
  {
   "cell_type": "code",
   "execution_count": null,
   "metadata": {},
   "outputs": [],
   "source": [
    "# L96 Visualisation\n",
    "\n",
    "def add_point(X): \n",
    "    return np.append(X, X[0])\n",
    "\n",
    "\n",
    "def state_plot(data, time):\n",
    "\n",
    "    K = len(data.X.K)\n",
    "    J = len(data.Y.KJ)\n",
    "\n",
    "    X = add_point(data.X[time])\n",
    "    Y = add_point(data.Y[time])\n",
    "\n",
    "    X_theta = [(2 * np.pi)/K * i for i in range(K + 1)]\n",
    "    Y_theta = [2 * np.pi/(J) * i for i in range(J + 1)]\n",
    "    fig = plt.figure(figsize=(5, 5))\n",
    "    ax1 = fig.add_subplot(111, projection='polar')\n",
    "    ax1.plot(X_theta, X, '*--', lw=3, zorder=10, alpha=0.5, label='X')\n",
    "    ax1.plot(Y_theta, Y, '.-', alpha = 0.5, lw=3, zorder=10, label='Y')\n",
    "    ax1.set_rmin(-14); ax1.set_rmax(14)\n",
    "    ax1.set_thetagrids([])\n",
    "    ax1.set_rorigin(-22)\n",
    "    ax1.legend(frameon=False, loc=1);\n",
    "    plt.subplots_adjust(left=0.05, right=0.95, bottom=0.05, top=0.95)"
   ]
  },
  {
   "cell_type": "code",
   "execution_count": null,
   "metadata": {},
   "outputs": [],
   "source": [
    "state_plot(data, -1)"
   ]
  },
  {
   "cell_type": "code",
   "execution_count": null,
   "metadata": {},
   "outputs": [],
   "source": [
    "data.dy"
   ]
  },
  {
   "cell_type": "code",
   "execution_count": null,
   "metadata": {},
   "outputs": [],
   "source": [
    "np.array([1, 1])/2"
   ]
  },
  {
   "cell_type": "code",
   "execution_count": null,
   "metadata": {},
   "outputs": [],
   "source": [
    "plt.plot(data.dx.sel(x=1))"
   ]
  },
  {
   "cell_type": "code",
   "execution_count": null,
   "metadata": {},
   "outputs": [],
   "source": [
    "plt.plot(data.dy.sel(KJ=1), '.')"
   ]
  },
  {
   "cell_type": "code",
   "execution_count": null,
   "metadata": {},
   "outputs": [],
   "source": [
    "data.dy.sel(y=1)[0]"
   ]
  },
  {
   "cell_type": "code",
   "execution_count": null,
   "metadata": {},
   "outputs": [],
   "source": []
  }
 ],
 "metadata": {
  "kernelspec": {
   "display_name": "Python3 (personal)",
   "language": "python",
   "name": "python3_personal"
  },
  "language_info": {
   "codemirror_mode": {
    "name": "ipython",
    "version": 3
   },
   "file_extension": ".py",
   "mimetype": "text/x-python",
   "name": "python",
   "nbconvert_exporter": "python",
   "pygments_lexer": "ipython3",
   "version": "3.6.10"
  }
 },
 "nbformat": 4,
 "nbformat_minor": 2
}
