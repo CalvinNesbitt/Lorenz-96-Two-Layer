{
 "cells": [
  {
   "cell_type": "code",
   "execution_count": 1,
   "metadata": {},
   "outputs": [],
   "source": [
    "# -----------------------------------------\n",
    "# Imports\n",
    "# -----------------------------------------\n",
    "import numpy as np\n",
    "import pickle\n",
    "import time as tm\n",
    "import xarray as xr\n",
    "import os\n",
    "import matplotlib.pyplot as plt\n",
    "import random\n",
    "\n",
    "# Lorenz 96 integrator\n",
    "import l96tangent as l96t\n",
    "\n",
    "# Ginelli Imports\n",
    "import ginelli_utilities as utilities\n",
    "from ginelli_observers import *\n",
    "from ginelli_plot import *"
   ]
  },
  {
   "cell_type": "code",
   "execution_count": 2,
   "metadata": {},
   "outputs": [],
   "source": [
    "# -----------------------------------------\n",
    "# Setup & Parameter Choices\n",
    "# -----------------------------------------"
   ]
  },
  {
   "cell_type": "code",
   "execution_count": 5,
   "metadata": {},
   "outputs": [
    {
     "name": "stdout",
     "output_type": "stream",
     "text": [
      "The directory ginelli already exists.\n",
      "\n",
      "The directory ginelli/step2 already exists.\n",
      "\n",
      "The directory ginelli/step2/R already exists.\n",
      "\n",
      "The directory ginelli/step2/BLV already exists.\n",
      "\n",
      "The directory ginelli/step3 already exists.\n",
      "\n",
      "The directory ginelli/step4 already exists.\n",
      "\n",
      "The directory ginelli/step5 already exists.\n",
      "\n"
     ]
    }
   ],
   "source": [
    "dump_size = 20 # How many observations before output\n",
    "\n",
    "# Time Parameter Choices\n",
    "tau = 0.001 # tau & transient feed in to the integrator\n",
    "transient = 0.1\n",
    "ka = 1000 # BLV convergence\n",
    "kb = 1000 # Number of observations\n",
    "kc = 1000 # CLV convergence\n",
    "\n",
    "# Integrator\n",
    "runner = l96t.Integrator(K=10, J=36)\n",
    "ginelli_runner = utilities.Forward(runner, tau)\n",
    "\n",
    "# Observables\n",
    "Rlooker = RMatrixObserver(ginelli_runner)\n",
    "BLVlooker = BLVMatrixObserver(ginelli_runner)\n",
    "\n",
    "# Timing the algorithm\n",
    "timings = {}\n",
    "start = tm.time()\n",
    "\n",
    "# Making Output Storage\n",
    "utilities.make_cupboard()"
   ]
  },
  {
   "cell_type": "code",
   "execution_count": null,
   "metadata": {},
   "outputs": [
    {
     "name": "stdout",
     "output_type": "stream",
     "text": [
      "\n",
      "Transient beginning.\n",
      "\n"
     ]
    },
    {
     "data": {
      "application/vnd.jupyter.widget-view+json": {
       "model_id": "e74a292413aa403daadf6d5f89b19047",
       "version_major": 2,
       "version_minor": 0
      },
      "text/plain": [
       "HBox(children=(FloatProgress(value=0.0), HTML(value='')))"
      ]
     },
     "metadata": {},
     "output_type": "display_data"
    },
    {
     "name": "stdout",
     "output_type": "stream",
     "text": [
      "\n",
      "\n",
      "Transient finished. Beginning BLV convergence steps.\n",
      "\n"
     ]
    },
    {
     "data": {
      "application/vnd.jupyter.widget-view+json": {
       "model_id": "4cf8e42179444d56804bf7840181cce2",
       "version_major": 2,
       "version_minor": 0
      },
      "text/plain": [
       "HBox(children=(FloatProgress(value=0.0, max=1000.0), HTML(value='')))"
      ]
     },
     "metadata": {},
     "output_type": "display_data"
    }
   ],
   "source": [
    "# -----------------------------------------\n",
    "# Forward Part of Ginelli Algorithm\n",
    "# -----------------------------------------\n",
    "\n",
    "# -----------------------------------------\n",
    "# Transient and Step 1, BLV Convergence\n",
    "# -----------------------------------------\n",
    "\n",
    "print('\\nTransient beginning.\\n')\n",
    "runner.integrate(transient, noprog=False)\n",
    "print('\\nTransient finished. Beginning BLV convergence steps.\\n')\n",
    "\n",
    "timings.update({'transient': tm.time() - start})\n",
    "\n",
    "# BLV Convergence steps\n",
    "\n",
    "ginelli_runner.run(ka, noprog=False)\n",
    "\n",
    "timings.update({'Step1': tm.time() - timings['transient'] - start})\n",
    "pickle.dump(timings, open(\"ginelli/timings.p\", \"wb\" ))\n",
    "\n",
    "# -----------------------------------------\n",
    "# Step 2, BLV Observation.\n",
    "# -----------------------------------------\n",
    "\n",
    "print('\\nBLV convergence finished. Beginning to observe BLVs.\\n')\n",
    "blocks = int(kb/dump_size) # How many times we dump\n",
    "remainder = kb%dump_size # Rest of observations\n",
    "\n",
    "for i in tqdm(range(blocks)):\n",
    "\n",
    "    utilities.make_observations(ginelli_runner, [Rlooker, BLVlooker], dump_size, 1, noprog=False)\n",
    "    # Observation frequency has to be 1 if we're reversing CLVs\n",
    "    Rlooker.dump('ginelli/step2/R')\n",
    "    BLVlooker.dump('ginelli/step2/BLV')\n",
    "\n",
    "utilities.make_observations(ginelli_runner, [Rlooker, BLVlooker], remainder, 1, noprog=False)\n",
    "Rlooker.dump('ginelli/step2/R')\n",
    "BLVlooker.dump('ginelli/step2/BLV')\n",
    "\n",
    "timings.update({'Step2': tm.time() - timings['Step1'] - start})\n",
    "pickle.dump(timings, open(\"ginelli/timings.p\", \"wb\" ))\n",
    "\n",
    "# -----------------------------------------\n",
    "# Step 3, CLV Convergence Step, Forward\n",
    "# -----------------------------------------\n",
    "\n",
    "print('\\nBLV observations finished. CLV convergence beginning. Just observing Rs.\\n')\n",
    "blocks = int(kc/dump_size)\n",
    "remainder = kc%dump_size\n",
    "\n",
    "for i in range(blocks):\n",
    "\n",
    "    utilities.make_observations(ginelli_runner, [Rlooker], dump_size, 1, noprog=False)\n",
    "    Rlooker.dump('ginelli/step3')\n",
    "\n",
    "utilities.make_observations(ginelli_runner, [Rlooker], remainder, 1, noprog=False)\n",
    "Rlooker.dump('ginelli/step3')\n",
    "print('\\nForward part all done :)')\n",
    "\n",
    "timings.update({'Step3': tm.time() - timings['Step2'] - start})\n",
    "pickle.dump(timings, open(\"ginelli/timings.p\", \"wb\" ))\n",
    "\n",
    "# -----------------------------------------\n",
    "# Backward Part of Ginelli Algorithm\n",
    "# -----------------------------------------\n",
    "\n",
    "# -----------------------------------------\n",
    "# Step 4, Reversing CLV Convergence Steps\n",
    "# -----------------------------------------\n",
    "\n",
    "R_files = os.listdir('ginelli/step3')\n",
    "R_files.sort(reverse=True) # Ensuring files are in the right order\n",
    "\n",
    "A = np.identity(ginelli_runner.size)\n",
    "\n",
    "for file in R_files:\n",
    "    R_history = xr.open_dataset('ginelli/step3/' + file)\n",
    "    A = utilities.block_squish_norm(R_history, A) # This A is one timestep ahead of the R that pushed it\n",
    "    R_history.close()\n",
    "    print(f'Pushed A through {file}. Overwriting A.npy.\\n')\n",
    "    np.save('ginelli/step4/A.npy', A)\n",
    "\n",
    "timings.update({'Step4': tm.time() - timings['Step3'] - start})\n",
    "pickle.dump(timings, open(\"ginelli/timings.p\", \"wb\" ))\n",
    "\n",
    "# -----------------------------------------\n",
    "# Step 5, Observing LVs and LEs\n",
    "# -----------------------------------------\n",
    "\n",
    "# Sorting files we will be working with\n",
    "\n",
    "R_files = os.listdir('ginelli/step2/R')\n",
    "R_files.sort(reverse=True)\n",
    "\n",
    "BLV_files = os.listdir('ginelli/step2/BLV')\n",
    "BLV_files.sort(reverse=True)\n",
    "\n",
    "# Setting up observable storage\n",
    "\n",
    "parameters = ginelli_runner.parameter_dict.copy()\n",
    "parameters.update({'transient':transient,'ka':ka, 'kb':kb, 'kc':kc})\n",
    "LyapunovLooker = LyapunovObserver(parameters, utilities.max_digit(BLV_files))\n",
    "\n",
    "for [rfile, bfile] in zip(R_files, BLV_files): # Loop over files that were dumped\n",
    "    R_history = xr.open_dataset('ginelli/step2/R/' + rfile)\n",
    "    BLV_history = xr.open_dataset('ginelli/step2/BLV/' + bfile)\n",
    "\n",
    "    Rs, BLVs = np.flip(R_history.R, axis = 0), np.flip(BLV_history.BLV, axis = 0) # Times series reversed\n",
    "\n",
    "    for R, BLV in zip(Rs, BLVs):\n",
    "\n",
    "        # CLV Calculation\n",
    "        CLV = np.matmul(BLV.values, A)\n",
    "\n",
    "        # FTCLE Calculation\n",
    "        squishedA = np.linalg.solve(R, A)\n",
    "        norms = np.linalg.norm(squishedA, axis=0, ord=2)\n",
    "        ftcle = - np.log(norms)/(tau)\n",
    "        A = squishedA/norms\n",
    "\n",
    "        # FTBLE Calculation\n",
    "        ftble = np.log(np.diag(R))/(tau)\n",
    "\n",
    "        # Making observation\n",
    "        time = R.time.item()\n",
    "        print(time)\n",
    "        LyapunovLooker.look(time, CLV, BLV.values, ftcle, ftble)\n",
    "\n",
    "\n",
    "    LyapunovLooker.dump('ginelli/step5')\n",
    "    R_history.close()\n",
    "    BLV_history.close()\n",
    "\n",
    "timings.update({'Step5': tm.time() - timings['Step4'] - start})\n",
    "pickle.dump(timings, open(\"ginelli/timings.p\", \"wb\" ))\n",
    "\n",
    "print('Ginelli Algorithm finished.')\n"
   ]
  },
  {
   "cell_type": "code",
   "execution_count": null,
   "metadata": {},
   "outputs": [],
   "source": [
    "parameters = ginelli_runner.parameter_dict.copy()\n",
    "parameters.update({'transient':transient,'ka':ka, 'kb':kb, 'kc':kc})"
   ]
  },
  {
   "cell_type": "code",
   "execution_count": null,
   "metadata": {},
   "outputs": [],
   "source": [
    "os.listdir('ginelli/step2/R')"
   ]
  },
  {
   "cell_type": "code",
   "execution_count": null,
   "metadata": {},
   "outputs": [],
   "source": [
    "ds = xr.open_mfdataset(f'ginelli/step5/*.nc', parallel=True, combine='by_coords', concat_dim='time')"
   ]
  },
  {
   "cell_type": "code",
   "execution_count": null,
   "metadata": {},
   "outputs": [],
   "source": [
    "plt.plot(spectra(ds), '.-')"
   ]
  },
  {
   "cell_type": "code",
   "execution_count": null,
   "metadata": {},
   "outputs": [],
   "source": [
    "spectra(ds).sel(le_index=1).values"
   ]
  },
  {
   "cell_type": "code",
   "execution_count": null,
   "metadata": {},
   "outputs": [],
   "source": [
    "h_experiment=[]\n",
    "for i in tqdm(range(1, 6)):\n",
    "    ds = xr.open_mfdataset(f'ginelli/step5/*.nc', parallel=True, combine='by_coords', concat_dim='time')\n",
    "    h_experiment.append(ds)"
   ]
  },
  {
   "cell_type": "code",
   "execution_count": null,
   "metadata": {},
   "outputs": [],
   "source": [
    "cupboard = 'ginelli/step5'\n",
    "name = LyapunovLooker.name\n",
    "\n",
    "save = cupboard + f'/{name}' + f'{1}.nc'\n",
    "print(save)"
   ]
  },
  {
   "cell_type": "code",
   "execution_count": null,
   "metadata": {},
   "outputs": [],
   "source": [
    "LyapunovLooker.observations.to_netcdf(save)"
   ]
  },
  {
   "cell_type": "code",
   "execution_count": null,
   "metadata": {},
   "outputs": [],
   "source": [
    "ds.close()"
   ]
  },
  {
   "cell_type": "code",
   "execution_count": null,
   "metadata": {},
   "outputs": [],
   "source": []
  }
 ],
 "metadata": {
  "kernelspec": {
   "display_name": "Python3 (personal)",
   "language": "python",
   "name": "python3_personal"
  },
  "language_info": {
   "codemirror_mode": {
    "name": "ipython",
    "version": 3
   },
   "file_extension": ".py",
   "mimetype": "text/x-python",
   "name": "python",
   "nbconvert_exporter": "python",
   "pygments_lexer": "ipython3",
   "version": "3.6.10"
  }
 },
 "nbformat": 4,
 "nbformat_minor": 2
}
