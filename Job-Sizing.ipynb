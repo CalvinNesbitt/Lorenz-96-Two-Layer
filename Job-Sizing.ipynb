{
 "cells": [
  {
   "cell_type": "markdown",
   "metadata": {},
   "source": [
    "# Memory and Timing Requirements\n",
    "\n",
    "Notebook to keep track of how long runs roughly take and memory requirements. Important for job sizing."
   ]
  },
  {
   "cell_type": "code",
   "execution_count": 2,
   "metadata": {},
   "outputs": [],
   "source": [
    "# Standard Imports\n",
    "\n",
    "import numpy as np\n",
    "import scipy.integrate\n",
    "import time as tm\n",
    "from tqdm.notebook import tqdm \n",
    "import xarray as xr\n",
    "import sys\n",
    "import ipywidgets as widgets\n",
    "import matplotlib.pyplot as plt\n",
    "from scipy.stats import gaussian_kde\n",
    "from ginelli96 import Ginelli96"
   ]
  },
  {
   "cell_type": "markdown",
   "metadata": {},
   "source": [
    "## Some Notes\n",
    "\n",
    "Currently have jobs running so you can have more certain timing estimates. 02/04/2020 16:37"
   ]
  },
  {
   "cell_type": "markdown",
   "metadata": {},
   "source": [
    "## Timings"
   ]
  },
  {
   "cell_type": "markdown",
   "metadata": {},
   "source": [
    "### Transient\n",
    "\n",
    "How long do transient steps take"
   ]
  },
  {
   "cell_type": "code",
   "execution_count": 3,
   "metadata": {},
   "outputs": [],
   "source": [
    "tr_data = [xr.open_dataset(f'L96_transient{tr}_00.nc') for tr in [10, 100, 1000, 10000]]"
   ]
  },
  {
   "cell_type": "code",
   "execution_count": 4,
   "metadata": {},
   "outputs": [],
   "source": [
    "trtimings = [data.attrs['transient'] for data in tr_data] # Length of Steps involving k_b"
   ]
  },
  {
   "cell_type": "code",
   "execution_count": 3,
   "metadata": {},
   "outputs": [
    {
     "ename": "NameError",
     "evalue": "name 'tr_data' is not defined",
     "output_type": "error",
     "traceback": [
      "\u001b[0;31m---------------------------------------------------------------------------\u001b[0m",
      "\u001b[0;31mNameError\u001b[0m                                 Traceback (most recent call last)",
      "\u001b[0;32m<ipython-input-3-a62f6ecebeeb>\u001b[0m in \u001b[0;36m<module>\u001b[0;34m\u001b[0m\n\u001b[1;32m      6\u001b[0m     \u001b[0mc\u001b[0m \u001b[0;34m=\u001b[0m \u001b[0mtr_data\u001b[0m\u001b[0;34m[\u001b[0m\u001b[0;36m0\u001b[0m\u001b[0;34m]\u001b[0m\u001b[0;34m.\u001b[0m\u001b[0mattrs\u001b[0m\u001b[0;34m[\u001b[0m\u001b[0;34m'Transient (s)'\u001b[0m\u001b[0;34m]\u001b[0m\u001b[0;34m\u001b[0m\u001b[0;34m\u001b[0m\u001b[0m\n\u001b[1;32m      7\u001b[0m     \u001b[0;32mreturn\u001b[0m \u001b[0;34m(\u001b[0m\u001b[0mslope\u001b[0m \u001b[0;34m*\u001b[0m \u001b[0;34m(\u001b[0m\u001b[0mtr\u001b[0m \u001b[0;34m-\u001b[0m \u001b[0mtr_data\u001b[0m\u001b[0;34m[\u001b[0m\u001b[0;36m0\u001b[0m\u001b[0;34m]\u001b[0m\u001b[0;34m.\u001b[0m\u001b[0mattrs\u001b[0m\u001b[0;34m[\u001b[0m\u001b[0;34m'transient'\u001b[0m\u001b[0;34m]\u001b[0m\u001b[0;34m)\u001b[0m \u001b[0;34m+\u001b[0m \u001b[0mc\u001b[0m\u001b[0;34m)\u001b[0m\u001b[0;34m/\u001b[0m\u001b[0;36m3600\u001b[0m\u001b[0;34m\u001b[0m\u001b[0;34m\u001b[0m\u001b[0m\n\u001b[0;32m----> 8\u001b[0;31m \u001b[0mtr_sizer\u001b[0m\u001b[0;34m(\u001b[0m\u001b[0;36m1000\u001b[0m\u001b[0;34m)\u001b[0m\u001b[0;34m\u001b[0m\u001b[0;34m\u001b[0m\u001b[0m\n\u001b[0m",
      "\u001b[0;32m<ipython-input-3-a62f6ecebeeb>\u001b[0m in \u001b[0;36mtr_sizer\u001b[0;34m(tr)\u001b[0m\n\u001b[1;32m      2\u001b[0m \u001b[0;34m\u001b[0m\u001b[0m\n\u001b[1;32m      3\u001b[0m \u001b[0;32mdef\u001b[0m \u001b[0mtr_sizer\u001b[0m\u001b[0;34m(\u001b[0m\u001b[0mtr\u001b[0m\u001b[0;34m)\u001b[0m\u001b[0;34m:\u001b[0m\u001b[0;34m\u001b[0m\u001b[0;34m\u001b[0m\u001b[0m\n\u001b[0;32m----> 4\u001b[0;31m     slope = (tr_data[-1].attrs['Transient (s)'] - tr_data[0].attrs['Transient (s)'])/(tr_data[-1].attrs['transient'] \n\u001b[0m\u001b[1;32m      5\u001b[0m                                                                                       - tr_data[0].attrs['transient'])\n\u001b[1;32m      6\u001b[0m     \u001b[0mc\u001b[0m \u001b[0;34m=\u001b[0m \u001b[0mtr_data\u001b[0m\u001b[0;34m[\u001b[0m\u001b[0;36m0\u001b[0m\u001b[0;34m]\u001b[0m\u001b[0;34m.\u001b[0m\u001b[0mattrs\u001b[0m\u001b[0;34m[\u001b[0m\u001b[0;34m'Transient (s)'\u001b[0m\u001b[0;34m]\u001b[0m\u001b[0;34m\u001b[0m\u001b[0;34m\u001b[0m\u001b[0m\n",
      "\u001b[0;31mNameError\u001b[0m: name 'tr_data' is not defined"
     ]
    }
   ],
   "source": [
    "# Quick line fit to estimate k_a time in hours\n",
    "\n",
    "def tr_sizer(tr):\n",
    "    slope = (tr_data[-1].attrs['Transient (s)'] - tr_data[0].attrs['Transient (s)'])/(tr_data[-1].attrs['transient'] \n",
    "                                                                                      - tr_data[0].attrs['transient'])\n",
    "    c = tr_data[0].attrs['Transient (s)']\n",
    "    return (slope * (tr - tr_data[0].attrs['transient']) + c)/3600 \n",
    "tr_sizer(1000) "
   ]
  },
  {
   "cell_type": "code",
   "execution_count": 10,
   "metadata": {},
   "outputs": [
    {
     "data": {
      "text/plain": [
       "[<matplotlib.lines.Line2D at 0x2ab81d6cb0b8>]"
      ]
     },
     "execution_count": 10,
     "metadata": {},
     "output_type": "execute_result"
    },
    {
     "data": {
      "image/png": "[encoded data removed]",
      "text/plain": [
       "<Figure size 432x288 with 1 Axes>"
      ]
     },
     "metadata": {
      "needs_background": "light"
     },
     "output_type": "display_data"
    }
   ],
   "source": [
    "for data in tr_data: plt.plot(data.attrs['transient'], data.attrs['Transient (s)']/3600, '.', label = 'Transient = ' + str(data.attrs['transient'])) \n",
    "plt.legend()\n",
    "plt.ylabel('Time (hours)')\n",
    "estimate = [tr_sizer(x) for x in np.linspace(0, 10000, 100)]\n",
    "plt.plot(np.linspace(0, 10000, 100), estimate)"
   ]
  },
  {
   "cell_type": "markdown",
   "metadata": {},
   "source": [
    "### Effect of $k_A$\n",
    "\n",
    "How long for BLV convergence"
   ]
  },
  {
   "cell_type": "code",
   "execution_count": 11,
   "metadata": {},
   "outputs": [],
   "source": [
    "ka_data = [xr.open_dataset(f'L96_kA{ka}_00.nc') for ka in [10, 100, 1000, 10000]]"
   ]
  },
  {
   "cell_type": "code",
   "execution_count": 12,
   "metadata": {},
   "outputs": [],
   "source": [
    "katimings = [data.attrs['Step 1'] for data in ka_data] # Length of Steps involving k_b"
   ]
  },
  {
   "cell_type": "code",
   "execution_count": 14,
   "metadata": {},
   "outputs": [
    {
     "data": {
      "text/plain": [
       "1.9266389009938225"
      ]
     },
     "execution_count": 14,
     "metadata": {},
     "output_type": "execute_result"
    }
   ],
   "source": [
    "# Quick line fit to estimate k_a time in hours\n",
    "\n",
    "def ka_sizer(kA):\n",
    "    slope = (ka_data[-1].attrs['Step 1'] - ka_data[0].attrs['Step 1'])/(ka_data[-1].attrs['kA'] - ka_data[0].attrs['kA'])\n",
    "    c = ka_data[0].attrs['Step 1']\n",
    "    return (slope * (kA - ka_data[0].attrs['kA']) + c)/3600\n",
    "\n",
    "ka_sizer(1000)"
   ]
  },
  {
   "cell_type": "code",
   "execution_count": 15,
   "metadata": {},
   "outputs": [
    {
     "data": {
      "text/plain": [
       "[<matplotlib.lines.Line2D at 0x2abeb5dc1e80>]"
      ]
     },
     "execution_count": 15,
     "metadata": {},
     "output_type": "execute_result"
    },
    {
     "data": {
      "image/png": "[encoded data removed]",
      "text/plain": [
       "<Figure size 432x288 with 1 Axes>"
      ]
     },
     "metadata": {
      "needs_background": "light"
     },
     "output_type": "display_data"
    }
   ],
   "source": [
    "for data in ka_data: plt.plot(data.attrs['kA'], data.attrs['Step 1']/3600, '.', label = 'kA = ' + str(data.attrs['kA'])) \n",
    "plt.legend()\n",
    "plt.ylabel('Time (hours)')\n",
    "estimate = [ka_sizer(x) for x in np.linspace(0, 10000, 100)]\n",
    "plt.plot(np.linspace(0, 10000, 100), estimate)"
   ]
  },
  {
   "cell_type": "markdown",
   "metadata": {},
   "source": [
    "### Effect of $k_B$\n",
    "\n",
    "Here we look at how the number of samples effect the run length."
   ]
  },
  {
   "cell_type": "code",
   "execution_count": 17,
   "metadata": {},
   "outputs": [],
   "source": [
    "directory = 'Data'\n",
    "data1500= xr.open_dataset(directory + '/L96_Ginelli_kB1500_00.nc')\n",
    "data2000= xr.open_dataset(directory + '/L96_Ginelli_kB2000_00.nc')\n",
    "data2500= xr.open_dataset(directory + '/L96_Ginelli_kB2500_00.nc')\n",
    "data3000= xr.open_dataset(directory + '/L96_Ginelli_kB3000_00.nc')\n",
    "kb_data = [data1500, data2000, data2500, data3000]"
   ]
  },
  {
   "cell_type": "code",
   "execution_count": 18,
   "metadata": {},
   "outputs": [],
   "source": [
    "kbtimings = [data.attrs['Step 2'] + data.attrs['Step 5'] for data in kb_data] # Length of Steps involving k_b"
   ]
  },
  {
   "cell_type": "code",
   "execution_count": 21,
   "metadata": {},
   "outputs": [
    {
     "data": {
      "image/png": "[encoded data removed]",
      "text/plain": [
       "<Figure size 432x288 with 1 Axes>"
      ]
     },
     "metadata": {
      "needs_background": "light"
     },
     "output_type": "display_data"
    }
   ],
   "source": [
    "plt.plot([data.attrs['kB'] for data in kb_data], np.array(kbtimings)/3600, '.-')\n",
    "plt.xlabel('Samples')\n",
    "plt.ylabel('Time (hours)')\n",
    "plt.title('Run Time')\n",
    "plt.show()\n",
    "#plt.savefig('Timings', dpi=1200)"
   ]
  },
  {
   "cell_type": "code",
   "execution_count": 38,
   "metadata": {},
   "outputs": [
    {
     "data": {
      "text/plain": [
       "[<matplotlib.lines.Line2D at 0x2b9fb65947b8>]"
      ]
     },
     "execution_count": 38,
     "metadata": {},
     "output_type": "execute_result"
    },
    {
     "data": {
      "image/png": "[encoded data removed]",
      "text/plain": [
       "<Figure size 432x288 with 1 Axes>"
      ]
     },
     "metadata": {
      "needs_background": "light"
     },
     "output_type": "display_data"
    }
   ],
   "source": [
    "# Quick line fit to estimate k_b time\n",
    "\n",
    "def kb_sizer(kb):\n",
    "    slope = (kbtimings[-2] - kbtimings[0])/(kb_data[-2].attrs['kB'] - kb_data[0].attrs['kB']) # In seconds\n",
    "    y = slope * (kb - kb_data[0].attrs['kB']) + kbtimings[0]\n",
    "    return(y/3600) # Hours\n",
    "    \n",
    "x_d = np.linspace(0, int(1.e4), 1000)\n",
    "plt.plot(x_d, [kb_sizer(x) for x in x_d])\n",
    "plt.plot([data.attrs['kB'] for data in kb_data], np.array(kbtimings)/3600, '.', label = 'Data points')"
   ]
  },
  {
   "cell_type": "markdown",
   "metadata": {},
   "source": [
    "### Effect of $k_C$\n",
    "\n",
    "Here we look at how the number of CLV Convergence Steps effect the run length."
   ]
  },
  {
   "cell_type": "code",
   "execution_count": 113,
   "metadata": {},
   "outputs": [],
   "source": [
    "data300= xr.open_dataset(directory + '/L96_Ginelli_kc300_00.nc')\n",
    "data500= xr.open_dataset(directory + '/L96_Ginelli_kc500_00.nc')\n",
    "data700= xr.open_dataset(directory + '/L96_Ginelli_kc700_00.nc')\n",
    "data900= xr.open_dataset(directory + '/L96_Ginelli_kc900_00.nc')\n",
    "kc_data = [data300, data500, data700, data900]"
   ]
  },
  {
   "cell_type": "code",
   "execution_count": 114,
   "metadata": {},
   "outputs": [],
   "source": [
    "timings = [data.attrs['Step 3'] + data.attrs['Step 4'] for data in kc_data] # Length of Steps involving k_C"
   ]
  },
  {
   "cell_type": "code",
   "execution_count": 118,
   "metadata": {},
   "outputs": [
    {
     "name": "stdout",
     "output_type": "stream",
     "text": [
      "For kc = 5000 we will need about 13.395156322883235 hours\n"
     ]
    }
   ],
   "source": [
    "# Quick line fit to estimate k_c time\n",
    "\n",
    "slope = (timings[-1] - timings[1])/400\n",
    "\n",
    "def kc_sizer(kc):\n",
    "    slope = (timings[-1] - timings[1])/400 # In seconds\n",
    "    y = slope * (kc - 500) + timings[1]\n",
    "    print(f'For kc = {kc} we will need about {y/3600} hours')\n",
    "    \n",
    "kc_sizer(5000)"
   ]
  },
  {
   "cell_type": "code",
   "execution_count": 70,
   "metadata": {},
   "outputs": [
    {
     "data": {
      "image/png": "[encoded data removed]",
      "text/plain": [
       "<Figure size 432x288 with 1 Axes>"
      ]
     },
     "metadata": {
      "needs_background": "light"
     },
     "output_type": "display_data"
    }
   ],
   "source": [
    "plt.plot(range(300, 1100, 200), np.array(timings)/3600, '.-')\n",
    "plt.xlabel('$k_C$')\n",
    "plt.ylabel('Time (hours)')\n",
    "plt.title('Run Time')\n",
    "plt.show()"
   ]
  }
 ],
 "metadata": {
  "kernelspec": {
   "display_name": "Python3 (personal)",
   "language": "python",
   "name": "python3_personal"
  },
  "language_info": {
   "codemirror_mode": {
    "name": "ipython",
    "version": 3
   },
   "file_extension": ".py",
   "mimetype": "text/x-python",
   "name": "python",
   "nbconvert_exporter": "python",
   "pygments_lexer": "ipython3",
   "version": "3.6.10"
  }
 },
 "nbformat": 4,
 "nbformat_minor": 2
}
