{
 "cells": [
  {
   "cell_type": "markdown",
   "metadata": {},
   "source": [
    "# Notebook to get rough estimate of cluster job sizing"
   ]
  },
  {
   "cell_type": "code",
   "execution_count": 1,
   "metadata": {},
   "outputs": [],
   "source": [
    "import xarray as xr\n",
    "import numpy as np\n",
    "import time as tm\n",
    "import os\n",
    "import gc\n",
    "import pickle\n",
    "import matplotlib.pyplot as plt\n",
    "from scipy.stats import linregress\n",
    "import random\n",
    "from tqdm.notebook import tqdm #tqdm is progress bar\n",
    "import ipywidgets as widgets"
   ]
  },
  {
   "cell_type": "markdown",
   "metadata": {},
   "source": [
    "### Quick Notes on Memory Usage\n",
    "\n",
    "- For a dump size of $250$ memory doesn't seem to peak to more than 1GB.\n",
    "- CPU usage is only about 1"
   ]
  },
  {
   "cell_type": "markdown",
   "metadata": {},
   "source": [
    "## Timings Estimates\n",
    "\n",
    "Bottle neck is in step 5, which is controlled by $k_b$.\n",
    "\n",
    "Reccomendation is to split job in to three parts:\n",
    "\n",
    "- part1 : $k_a = 5000$, $k_b = 4000$ ~ $60$ hours\n",
    "- part2 : $k_b = 4000$ ~ $50$ hours\n",
    "- part3 : $k_b = 4000$, $k_c = 5000$ ~ $60$ hours"
   ]
  },
  {
   "cell_type": "markdown",
   "metadata": {},
   "source": [
    "### $k_a$ effect"
   ]
  },
  {
   "cell_type": "code",
   "execution_count": 2,
   "metadata": {},
   "outputs": [],
   "source": [
    "# Fetching Timings\n",
    "directory = 'ka-timings'\n",
    "step1_timings = []\n",
    "ka_values = []\n",
    "for subdir in os.listdir(directory):\n",
    "    where = f'{directory}/{subdir}'\n",
    "    timings = pickle.load(open(f\"{where}/timings.p\", 'rb'))\n",
    "    step1_timings.append(timings['Step1'])\n",
    "    \n",
    "    for data in os.listdir(f'{where}/step5'):\n",
    "        ds = xr.open_dataset(f'{where}/step5/{data}')\n",
    "        ka_values.append(ds.attrs['ka'])\n",
    "        ds.close()\n",
    "ka_timings = np.array(list(zip(ka_values, step1_timings)))"
   ]
  },
  {
   "cell_type": "code",
   "execution_count": 3,
   "metadata": {},
   "outputs": [],
   "source": [
    "# Quick Linear Regression\n",
    "ka_line = linregress(ka_timings[:, 0], ka_timings[:, 1])\n",
    "\n",
    "def ka_timer(ka):\n",
    "    \"\"\"how many hours for certain number of ka\"\"\"\n",
    "    slope = ka_line[0]\n",
    "    intercept = ka_line[1]\n",
    "    return (slope * ka + intercept)/3600"
   ]
  },
  {
   "cell_type": "code",
   "execution_count": 4,
   "metadata": {},
   "outputs": [
    {
     "data": {
      "text/plain": [
       "Text(0.5, 1.0, 'Timing ka')"
      ]
     },
     "execution_count": 4,
     "metadata": {},
     "output_type": "execute_result"
    },
    {
     "data": {
      "image/png": "[encoded data removed]",
      "text/plain": [
       "<Figure size 432x288 with 1 Axes>"
      ]
     },
     "metadata": {
      "needs_background": "light"
     },
     "output_type": "display_data"
    }
   ],
   "source": [
    "plt.plot(ka_timings[:, 0], ka_timings[:, 1]/3600, '.', label = 'Samples')\n",
    "x_values = np.linspace(0, 5000, 100)\n",
    "plt.plot(x_values, [ka_timer(x) for x in x_values], '--', label ='Line of best fit')\n",
    "plt.xlabel('ka')\n",
    "plt.ylabel('Time (hours)')\n",
    "plt.legend()\n",
    "plt.title('Timing ka')"
   ]
  },
  {
   "cell_type": "code",
   "execution_count": 5,
   "metadata": {},
   "outputs": [
    {
     "data": {
      "text/plain": [
       "8.966799278353543"
      ]
     },
     "execution_count": 5,
     "metadata": {},
     "output_type": "execute_result"
    }
   ],
   "source": [
    "ka_timer(5000)"
   ]
  },
  {
   "cell_type": "markdown",
   "metadata": {},
   "source": [
    "### $k_b$ effect"
   ]
  },
  {
   "cell_type": "code",
   "execution_count": 6,
   "metadata": {},
   "outputs": [],
   "source": [
    "# Fetching Slowed Timings\n",
    "\n",
    "def fetch_kb_timings(directory):\n",
    "    step25_timings = []\n",
    "    kb_values = []\n",
    "    step2_timings = []\n",
    "    step5_timings = []\n",
    "    for subdir in os.listdir(directory):\n",
    "        where = f'{directory}/{subdir}'\n",
    "        timings = pickle.load(open(f\"{where}/timings.p\", 'rb'))\n",
    "        step2_timings.append(timings['Step2'])\n",
    "        step5_timings.append(timings['Step5'])\n",
    "        step25_timings.append(timings['Step2'] + timings['Step5']) \n",
    "        data = os.listdir(f'{where}/step5')[0] # only need kb from one place\n",
    "        ds = xr.open_dataset(f'{where}/step5/{data}')\n",
    "        kb_values.append(ds.attrs['kb'])\n",
    "        ds.close()\n",
    "    kb_timings = np.array(list(zip(kb_values, step25_timings))) # combined\n",
    "    step5_timings = np.array(list(zip(kb_values, step5_timings)))\n",
    "    step2_timings = np.array(list(zip(kb_values, step2_timings)))\n",
    "    return kb_timings, step5_timings, step2_timings\n",
    "\n",
    "kb_timings, step5_timings, step2_timings = fetch_kb_timings('kb-timings')\n",
    "kb_faster, step5_faster, step2_faster = fetch_kb_timings('kb-faster')"
   ]
  },
  {
   "cell_type": "markdown",
   "metadata": {},
   "source": [
    "### Overall time effect of $k_b$"
   ]
  },
  {
   "cell_type": "code",
   "execution_count": 7,
   "metadata": {},
   "outputs": [],
   "source": [
    "# Quick Linear Regression\n",
    "kb_line = linregress(kb_timings[:, 0], kb_timings[:, 1])\n",
    "\n",
    "def kb_timer(kb):\n",
    "    \"\"\"how many hours for certain number of kb\"\"\"\n",
    "    slope = kb_line[0]\n",
    "    intercept = kb_line[1]\n",
    "    return (slope * kb + intercept)/3600"
   ]
  },
  {
   "cell_type": "markdown",
   "metadata": {},
   "source": [
    "### Time effect of $k_b$ on step $2$"
   ]
  },
  {
   "cell_type": "code",
   "execution_count": 8,
   "metadata": {},
   "outputs": [],
   "source": [
    "# Quick Linear Regression\n",
    "step2_line = linregress(step2_timings[:, 0], step2_timings[:, 1])\n",
    "\n",
    "def step2_timer(kb):\n",
    "    \"\"\"how many hours for certain number of kb\"\"\"\n",
    "    slope = step2_line[0]\n",
    "    intercept = step2_line[1]\n",
    "    return (slope * kb + intercept)/3600"
   ]
  },
  {
   "cell_type": "code",
   "execution_count": 9,
   "metadata": {},
   "outputs": [
    {
     "data": {
      "image/png": "[encoded data removed]",
      "text/plain": [
       "<Figure size 432x288 with 1 Axes>"
      ]
     },
     "metadata": {
      "needs_background": "light"
     },
     "output_type": "display_data"
    }
   ],
   "source": [
    "plt.plot(step2_timings[:, 0], step2_timings[:, 1]/3600, '.', label = 'Samples')\n",
    "x_values = np.linspace(0, 2000, 100)\n",
    "plt.plot(x_values, [step2_timer(x) for x in x_values], '--', label ='Line of best fit')\n",
    "plt.xlabel('kb')\n",
    "plt.ylabel('Time (hours)')\n",
    "plt.title('Timing Step 2')\n",
    "plt.legend()\n",
    "plt.show()"
   ]
  },
  {
   "cell_type": "code",
   "execution_count": 10,
   "metadata": {},
   "outputs": [
    {
     "data": {
      "text/plain": [
       "32.711177479748564"
      ]
     },
     "execution_count": 10,
     "metadata": {},
     "output_type": "execute_result"
    }
   ],
   "source": [
    "step2_timer(15000)"
   ]
  },
  {
   "cell_type": "markdown",
   "metadata": {},
   "source": [
    "### Time effect of $k_b$ on step $5$"
   ]
  },
  {
   "cell_type": "code",
   "execution_count": 11,
   "metadata": {},
   "outputs": [],
   "source": [
    "# Quick Linear Regression\n",
    "step5_line = linregress(step5_timings[:, 0], step5_timings[:, 1])\n",
    "\n",
    "def step5_timer(kb):\n",
    "    \"\"\"how many hours for certain number of kb\"\"\"\n",
    "    slope = step5_line[0]\n",
    "    intercept = step5_line[1]\n",
    "    return (slope * kb + intercept)/3600"
   ]
  },
  {
   "cell_type": "code",
   "execution_count": 12,
   "metadata": {},
   "outputs": [
    {
     "data": {
      "image/png": "[encoded data removed]",
      "text/plain": [
       "<Figure size 432x288 with 1 Axes>"
      ]
     },
     "metadata": {
      "needs_background": "light"
     },
     "output_type": "display_data"
    }
   ],
   "source": [
    "plt.plot(step5_timings[:, 0], step5_timings[:, 1]/3600, '.', label = 'Samples')\n",
    "x_values = np.linspace(0, 2000, 100)\n",
    "plt.plot(x_values, [step5_timer(x) for x in x_values], '--', label ='Line of best fit')\n",
    "plt.xlabel('kb')\n",
    "plt.ylabel('Time (hours)')\n",
    "plt.title('Timing Step 5')\n",
    "plt.legend()\n",
    "plt.show()"
   ]
  },
  {
   "cell_type": "code",
   "execution_count": 13,
   "metadata": {},
   "outputs": [
    {
     "data": {
      "text/plain": [
       "1.673180189026795"
      ]
     },
     "execution_count": 13,
     "metadata": {},
     "output_type": "execute_result"
    }
   ],
   "source": [
    "step5_timer(12)"
   ]
  },
  {
   "cell_type": "markdown",
   "metadata": {},
   "source": [
    "### Overall time effect of $k_b$"
   ]
  },
  {
   "cell_type": "code",
   "execution_count": 14,
   "metadata": {},
   "outputs": [],
   "source": [
    "# Quick Linear Regression\n",
    "kb_line = linregress(kb_timings[:, 0], kb_timings[:, 1])\n",
    "\n",
    "def kb_timer(kb):\n",
    "    \"\"\"how many hours for certain number of kb\"\"\"\n",
    "    slope = kb_line[0]\n",
    "    intercept = kb_line[1]\n",
    "    return (slope * kb + intercept)/3600"
   ]
  },
  {
   "cell_type": "code",
   "execution_count": 15,
   "metadata": {},
   "outputs": [
    {
     "data": {
      "text/plain": [
       "59.056279682626474"
      ]
     },
     "execution_count": 15,
     "metadata": {},
     "output_type": "execute_result"
    }
   ],
   "source": [
    "kb_timer(5000)"
   ]
  },
  {
   "cell_type": "code",
   "execution_count": 16,
   "metadata": {},
   "outputs": [
    {
     "data": {
      "image/png": "[encoded data removed]",
      "text/plain": [
       "<Figure size 432x288 with 1 Axes>"
      ]
     },
     "metadata": {
      "needs_background": "light"
     },
     "output_type": "display_data"
    }
   ],
   "source": [
    "plt.plot(kb_timings[:, 0], kb_timings[:, 1]/3600, '.', label = 'Slow Samples')\n",
    "x_values = np.linspace(0, 2000, 100)\n",
    "plt.plot(x_values, [kb_timer(x) for x in x_values], '--', label ='Line of best fit')\n",
    "plt.xlabel('kb')\n",
    "plt.ylabel('Time (hours)')\n",
    "plt.title('Timing kb')\n",
    "plt.legend()\n",
    "plt.show()"
   ]
  },
  {
   "cell_type": "markdown",
   "metadata": {},
   "source": [
    "# Faster $k_b$"
   ]
  },
  {
   "cell_type": "code",
   "execution_count": 17,
   "metadata": {},
   "outputs": [],
   "source": [
    "fastkb_line = linregress(kb_faster[:, 0], kb_faster[:, 1])\n",
    "def fast_kb_timer(kb):\n",
    "    \"\"\"how many hours for certain number of kb\"\"\"\n",
    "    slope = fastkb_line[0]\n",
    "    intercept = fastkb_line[1]\n",
    "    return (slope * kb + intercept)/3600"
   ]
  },
  {
   "cell_type": "code",
   "execution_count": 18,
   "metadata": {},
   "outputs": [
    {
     "data": {
      "image/png": "[encoded data removed]",
      "text/plain": [
       "<Figure size 432x288 with 1 Axes>"
      ]
     },
     "metadata": {
      "needs_background": "light"
     },
     "output_type": "display_data"
    }
   ],
   "source": [
    "#plt.plot(kb_timings[:, 0], kb_timings[:, 1]/3600, '.', label = 'Slow Samples')\n",
    "x_values = np.linspace(0, 4500, 100)\n",
    "#plt.plot(x_values, [kb_timer(x) for x in x_values], '--', label ='Line of best fit')\n",
    "plt.plot(kb_faster[:, 0], kb_faster[:, 1]/3600, '.', label = 'Fast Samples')\n",
    "plt.plot(x_values, [fast_kb_timer(x) for x in x_values], '--', label ='Fast Line of best fit')\n",
    "plt.xlabel('kb')\n",
    "plt.ylabel('Time (hours)')\n",
    "plt.title('Code Speed Up')\n",
    "plt.show()"
   ]
  },
  {
   "cell_type": "code",
   "execution_count": null,
   "metadata": {},
   "outputs": [],
   "source": []
  },
  {
   "cell_type": "markdown",
   "metadata": {},
   "source": [
    "### $k_c$ effect"
   ]
  },
  {
   "cell_type": "code",
   "execution_count": 19,
   "metadata": {},
   "outputs": [],
   "source": [
    "# Fetching Timings\n",
    "directory = 'kc-timings'\n",
    "step34_timings = []\n",
    "kc_values = []\n",
    "for subdir in os.listdir(directory):\n",
    "    where = f'{directory}/{subdir}'\n",
    "    timings = pickle.load(open(f\"{where}/timings.p\", 'rb'))\n",
    "    step34_timings.append(timings['Step3'] + timings['Step4'])\n",
    "    data = os.listdir(f'{where}/step5')[0] # only need kb from one place\n",
    "    ds = xr.open_dataset(f'{where}/step5/{data}')\n",
    "    kc_values.append(ds.attrs['kc'])\n",
    "    ds.close()\n",
    "kc_timings = np.array(list(zip(kc_values, step34_timings)))"
   ]
  },
  {
   "cell_type": "code",
   "execution_count": 20,
   "metadata": {},
   "outputs": [],
   "source": [
    "# Quick Linear Regression\n",
    "kc_line = linregress(kc_timings[:, 0], kc_timings[:, 1])\n",
    "\n",
    "def kc_timer(kc):\n",
    "    \"\"\"how many hours for certain number of ka\"\"\"\n",
    "    slope = kc_line[0]\n",
    "    intercept = kc_line[1]\n",
    "    return (slope * kc + intercept)/3600"
   ]
  },
  {
   "cell_type": "code",
   "execution_count": 21,
   "metadata": {},
   "outputs": [
    {
     "data": {
      "image/png": "[encoded data removed]",
      "text/plain": [
       "<Figure size 432x288 with 1 Axes>"
      ]
     },
     "metadata": {
      "needs_background": "light"
     },
     "output_type": "display_data"
    }
   ],
   "source": [
    "plt.plot(kc_timings[:, 0], kc_timings[:, 1]/3600, '.', label = 'Samples')\n",
    "x_values = np.linspace(0, 3000, 100)\n",
    "plt.plot(x_values, [kc_timer(x) for x in x_values], '--', label='Regression')\n",
    "plt.xlabel('kc')\n",
    "plt.ylabel('Time (hours)')\n",
    "plt.title('Timing kc')\n",
    "plt.legend()\n",
    "plt.show()"
   ]
  },
  {
   "cell_type": "markdown",
   "metadata": {},
   "source": [
    "### Estimate on how to split job up"
   ]
  },
  {
   "cell_type": "code",
   "execution_count": 22,
   "metadata": {},
   "outputs": [
    {
     "data": {
      "text/plain": [
       "62.2862506158471"
      ]
     },
     "execution_count": 22,
     "metadata": {},
     "output_type": "execute_result"
    }
   ],
   "source": [
    "ka_timer(5000) + kb_timer(4500) "
   ]
  },
  {
   "cell_type": "code",
   "execution_count": 23,
   "metadata": {},
   "outputs": [
    {
     "data": {
      "text/plain": [
       "23.284912626791115"
      ]
     },
     "execution_count": 23,
     "metadata": {},
     "output_type": "execute_result"
    }
   ],
   "source": [
    "kb_timer(10000)/5"
   ]
  },
  {
   "cell_type": "code",
   "execution_count": 24,
   "metadata": {},
   "outputs": [
    {
     "data": {
      "text/plain": [
       "21.48829750324908"
      ]
     },
     "execution_count": 24,
     "metadata": {},
     "output_type": "execute_result"
    }
   ],
   "source": [
    "kb_timer(1000) + kc_timer(5000) "
   ]
  },
  {
   "cell_type": "code",
   "execution_count": 29,
   "metadata": {},
   "outputs": [
    {
     "data": {
      "text/plain": [
       "70.07094165502025"
      ]
     },
     "execution_count": 29,
     "metadata": {},
     "output_type": "execute_result"
    }
   ],
   "source": [
    "ka_timer(5000) + fast_kb_timer(25000)  + kc_timer(5000)"
   ]
  },
  {
   "cell_type": "markdown",
   "metadata": {},
   "source": [
    "### Timing Step 5"
   ]
  },
  {
   "cell_type": "markdown",
   "metadata": {},
   "source": [
    "Seems slowdown is from dumping and/or observations call in Lyapunov Looker"
   ]
  },
  {
   "cell_type": "code",
   "execution_count": 26,
   "metadata": {},
   "outputs": [],
   "source": [
    "from ginelli_observers import *\n",
    "import ginelli_utilities as utilities\n",
    "import l96tangent as l96t"
   ]
  },
  {
   "cell_type": "code",
   "execution_count": 27,
   "metadata": {},
   "outputs": [],
   "source": [
    "runner = l96t.Integrator()\n",
    "tau= 0.1\n",
    "ginelli_runner = utilities.Forward(runner, tau)\n",
    "parameters = ginelli_runner.parameter_dict.copy()"
   ]
  },
  {
   "cell_type": "code",
   "execution_count": null,
   "metadata": {},
   "outputs": [],
   "source": []
  }
 ],
 "metadata": {
  "kernelspec": {
   "display_name": "Python3 (personal)",
   "language": "python",
   "name": "python3_personal"
  },
  "language_info": {
   "codemirror_mode": {
    "name": "ipython",
    "version": 3
   },
   "file_extension": ".py",
   "mimetype": "text/x-python",
   "name": "python",
   "nbconvert_exporter": "python",
   "pygments_lexer": "ipython3",
   "version": "3.6.10"
  }
 },
 "nbformat": 4,
 "nbformat_minor": 2
}
