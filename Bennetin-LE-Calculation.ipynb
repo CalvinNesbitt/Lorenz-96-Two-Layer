{
 "cells": [
  {
   "cell_type": "markdown",
   "metadata": {},
   "source": [
    "# Benettin Algortihm\n",
    "\n",
    "In this notebook we will develop the code for the Bennetin algorithm to find the Lyapunov spectrum of L96."
   ]
  },
  {
   "cell_type": "code",
   "execution_count": null,
   "metadata": {},
   "outputs": [],
   "source": [
    "# Standard Imports\n",
    "\n",
    "import numpy as np\n",
    "import numpy.linalg as la\n",
    "import xarray as xr\n",
    "import matplotlib.pyplot as plt\n",
    "from tqdm.notebook import tqdm\n",
    "\n",
    "# L96 Tangent Integrator Import\n",
    "import l96adaptive as l96"
   ]
  },
  {
   "cell_type": "markdown",
   "metadata": {},
   "source": [
    "## Functions Needed for the Benettin Algorithm"
   ]
  },
  {
   "cell_type": "code",
   "execution_count": 9,
   "metadata": {},
   "outputs": [],
   "source": [
    "def posQR(M):\n",
    "    \"\"\" Returns QR decomposition of a matrix with positive diagonals on R.\n",
    "    Parameter, M: Array that is being decomposed\n",
    "    \"\"\"\n",
    "    Q, R = la.qr(M) # Performing QR decomposition\n",
    "    signs = np.diag(np.sign(np.diagonal(R))) # Matrix with signs of R diagonal on the diagonal\n",
    "    Q, R = np.dot(Q, signs), np.dot(signs, R) # Ensuring R Diagonal is positive\n",
    "    return Q, R"
   ]
  },
  {
   "cell_type": "code",
   "execution_count": 10,
   "metadata": {},
   "outputs": [],
   "source": [
    "runner = l96.TangentIntegrator(K=4, J=4)"
   ]
  },
  {
   "cell_type": "code",
   "execution_count": 11,
   "metadata": {},
   "outputs": [],
   "source": [
    "# Initialising orthogonal matrix\n",
    "\n",
    "eps = 1.e-9\n",
    "oldQ = eps * np.identity(runner.size)\n",
    "oldQ[0, 1] = eps * 1\n",
    "\n",
    "# Will be stretched matrix i.e. P = QR\n",
    "P = np.random.rand(runner.size, runner.size) \n",
    "\n",
    "# Stretching rates after QR decomposition\n",
    "R = np.random.rand(runner.size, runner.size)\n",
    "\n",
    "# Time between QR Decompositions\n",
    "tau = 0.01"
   ]
  },
  {
   "cell_type": "code",
   "execution_count": 12,
   "metadata": {},
   "outputs": [],
   "source": [
    "looker = l96.TangentTrajectoryObserver(runner)"
   ]
  },
  {
   "cell_type": "code",
   "execution_count": 13,
   "metadata": {},
   "outputs": [
    {
     "data": {
      "application/vnd.jupyter.widget-view+json": {
       "model_id": "88e25a879a5d41fda2c57f6f2b028d89",
       "version_major": 2,
       "version_minor": 0
      },
      "text/plain": [
       "HBox(children=(FloatProgress(value=0.0, max=1000.0), HTML(value='')))"
      ]
     },
     "metadata": {},
     "output_type": "display_data"
    },
    {
     "name": "stdout",
     "output_type": "stream",
     "text": [
      "\n"
     ]
    }
   ],
   "source": [
    "ftle_ts = []\n",
    "for i in tqdm(range(1000)):\n",
    "    # Where we are in phase space before ginelli step\n",
    "    phase_state = runner.state\n",
    "    time = runner.time\n",
    "\n",
    "    # Stretching first column\n",
    "    runner.set_state(phase_state, oldQ.T[0]) # First column of Q is ic for TLE\n",
    "    runner.integrate(tau)\n",
    "\n",
    "    # First column of Stretched matirx\n",
    "    P[:, 0] = runner.tangent_state\n",
    "\n",
    "    # Stretching the rest of the columns\n",
    "    for i, column in enumerate(oldQ.T[1:]):\n",
    "\n",
    "        # Reseting to where we were in phase space\n",
    "        runner.set_state(phase_state, column)\n",
    "        runner.time = time\n",
    "\n",
    "        runner.integrate(tau)\n",
    "        P[:, i + 1] = runner.tangent_state\n",
    "    \n",
    "    oldQ, R = posQR(P)\n",
    "    ftle = np.log(np.diag(R))/(tau)\n",
    "    ftle_ts.append(ftle)"
   ]
  },
  {
   "cell_type": "code",
   "execution_count": 14,
   "metadata": {},
   "outputs": [],
   "source": [
    "F = np.vstack(ftle_ts)"
   ]
  },
  {
   "cell_type": "code",
   "execution_count": 15,
   "metadata": {},
   "outputs": [
    {
     "data": {
      "image/png": "[encoded data removed]",
      "text/plain": [
       "<Figure size 432x288 with 1 Axes>"
      ]
     },
     "metadata": {
      "needs_background": "light"
     },
     "output_type": "display_data"
    }
   ],
   "source": [
    "ftle = np.flip(np.sort(np.mean(F, axis=0)))\n",
    "plt.plot(np.mean(F, axis=0), '.-')\n",
    "plt.plot(ftle, '.-')\n",
    "plt.grid()\n",
    "plt.show()"
   ]
  },
  {
   "cell_type": "code",
   "execution_count": 19,
   "metadata": {},
   "outputs": [
    {
     "data": {
      "text/plain": [
       "array([ 25.12681872,  21.81743264,  16.25697289,  14.15198315,\n",
       "         8.91229157,   7.91756245,   5.12621069,   2.32561478,\n",
       "        -1.33155206,  -1.6740923 ,  -2.28930423,  -3.22723793,\n",
       "        -4.06445996,  -5.0986719 ,  -6.80924114, -10.38970326,\n",
       "       -14.9782722 , -22.12780268, -33.18095177, -41.94923783])"
      ]
     },
     "execution_count": 19,
     "metadata": {},
     "output_type": "execute_result"
    }
   ],
   "source": [
    "ftle"
   ]
  },
  {
   "cell_type": "code",
   "execution_count": 18,
   "metadata": {},
   "outputs": [
    {
     "data": {
      "text/plain": [
       "[<matplotlib.lines.Line2D at 0x1480e0729ac8>]"
      ]
     },
     "execution_count": 18,
     "metadata": {},
     "output_type": "execute_result"
    },
    {
     "data": {
      "image/png": "[encoded data removed]",
      "text/plain": [
       "<Figure size 432x288 with 1 Axes>"
      ]
     },
     "metadata": {
      "needs_background": "light"
     },
     "output_type": "display_data"
    }
   ],
   "source": [
    "plt.plot(np.var(ftle), '.-')"
   ]
  },
  {
   "cell_type": "code",
   "execution_count": null,
   "metadata": {},
   "outputs": [],
   "source": [
    "from scipy.stats import gaussian_kde\n",
    "def kde_pdf(samples, title, xlabel='', save=None):\n",
    "    fig, ax = plt.subplots()\n",
    "    x_d = np.linspace(samples.min() - 1, samples.max() + 1, 1000) # Grid we evaluate PDF on\n",
    "    kde = gaussian_kde(samples) # KDE. Using Gaussian ker\n",
    "    pdf = kde.evaluate(x_d)\n",
    "    ax.plot(x_d, pdf)\n",
    "    ax.set_ylabel('$\\\\rho$')\n",
    "    ax.set_xlabel(xlabel)\n",
    "    ax.plot(samples, np.full_like(samples, -0.01), 'k*', label='samples')\n",
    "    #ax.legend()\n",
    "    ax.grid()\n",
    "    ax.set_title(title)\n",
    "    if (save!=None):\n",
    "        print(f'Saving plot at {save}')\n",
    "        fig.savefig(save, dpi=1200)\n",
    "    fig.show()"
   ]
  },
  {
   "cell_type": "code",
   "execution_count": null,
   "metadata": {},
   "outputs": [],
   "source": [
    "kde_pdf(F[1:, -1], 'Last FTLE')\n",
    "kde_pdf(F[1:, -2], 'Last FTLE')\n",
    "kde_pdf(F[1:, -3], 'Last FTLE')\n",
    "kde_pdf(F[1:, -4], 'Last FTLE')"
   ]
  },
  {
   "cell_type": "code",
   "execution_count": null,
   "metadata": {},
   "outputs": [],
   "source": [
    "plt.plot(F[1:, -1], '.-')\n",
    "plt.plot(F[1:, -2])"
   ]
  },
  {
   "cell_type": "code",
   "execution_count": null,
   "metadata": {},
   "outputs": [],
   "source": [
    "plt.plot([np.mean(F[1:i, -2]) for i in range(1, 1000)])"
   ]
  },
  {
   "cell_type": "code",
   "execution_count": null,
   "metadata": {},
   "outputs": [],
   "source": []
  }
 ],
 "metadata": {
  "kernelspec": {
   "display_name": "Python3 (personal)",
   "language": "python",
   "name": "python3_personal"
  },
  "language_info": {
   "codemirror_mode": {
    "name": "ipython",
    "version": 3
   },
   "file_extension": ".py",
   "mimetype": "text/x-python",
   "name": "python",
   "nbconvert_exporter": "python",
   "pygments_lexer": "ipython3",
   "version": "3.6.10"
  }
 },
 "nbformat": 4,
 "nbformat_minor": 2
}
