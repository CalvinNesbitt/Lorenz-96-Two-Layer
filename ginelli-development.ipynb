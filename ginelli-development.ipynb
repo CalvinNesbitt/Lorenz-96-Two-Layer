{
 "cells": [
  {
   "cell_type": "markdown",
   "metadata": {},
   "source": [
    "# Ginelli Checkpoint Development\n",
    "\n",
    "Notebook for editing Ginelli code to checkpoint."
   ]
  },
  {
   "cell_type": "code",
   "execution_count": 270,
   "metadata": {},
   "outputs": [],
   "source": [
    "# Standard Imports\n",
    "\n",
    "import numpy as np\n",
    "import time as tm\n",
    "import pickle\n",
    "from tqdm.notebook import tqdm\n",
    "import xarray as xr\n",
    "import sys\n",
    "import os"
   ]
  },
  {
   "cell_type": "markdown",
   "metadata": {},
   "source": [
    "## Working notes:\n",
    "\n",
    "- First finish checkpoint decorator, this takes a step of the ginelli algorithm and makes it in to a loop and saving function\n",
    "\n",
    "- Need a self.stage attribute, checkpoint decorator should update this. \n",
    "\n",
    "- Need and self.stage_IO_directory attribute. should correspond to self.stage"
   ]
  },
  {
   "cell_type": "code",
   "execution_count": 240,
   "metadata": {},
   "outputs": [],
   "source": [
    "class TangentIntegratorL96:\n",
    "    \n",
    "    \"\"\"Integrates the L96 ODEs and it's tangent dynamics simultaneously.\"\"\"\n",
    "    def __init__(self, K=36, J=10, h=1, Ff=6, Fs=10, c=10, dt=0.001, save_every=10,\n",
    "                 X_init=None, Y_init=None, dx_init=None, dy_init=None, noprog=False,):\n",
    "        \"\"\"param, save_every: steps at which we save output.\"\"\"\n",
    "        \n",
    "        # Model parameters\n",
    "        self.K, self.J, self.h, self.Ff, self.Fs, self.c, self.dt = K, J, h, Ff, Fs, c, dt\n",
    "        self.b = np.sqrt(J * c) # b restriction\n",
    "        self.size = self.K + (self.J * self.K) # Number of variables\n",
    "        self.save_every = save_every\n",
    "\n",
    "        # Step counts\n",
    "        self.step_count = 0 # Number of integration steps\n",
    "\n",
    "        # Progress Bars\n",
    "        self.noprog = noprog\n",
    "\n",
    "        # Non-linear Variables\n",
    "        self.X = np.random.rand(self.K) if X_init is None else X_init.copy() # Random IC if none given\n",
    "        self.Y = np.zeros(self.K * self.J) if Y_init is None else Y_init.copy() * self.b # ALL the y's\n",
    "        self._history_X = [self.X.copy()]\n",
    "        self._history_Y = [self.Y.copy()] # Y's in a list, remember they are in natural lists of length K\n",
    "\n",
    "        # TLE Variables\n",
    "        self.dx = np.random.rand(self.K) if dx_init is None else dx_init.copy()\n",
    "        self.dy = np.random.rand(self.K * self.J) if dy_init is None else dy_init.copy()\n",
    "        \n",
    "        self._history_dx = [self.dx.copy()]\n",
    "        self._history_dy = [self.dy.copy()] # Y's in a list, remember they are in natural lists of length K\n",
    "    \n",
    "    def _rhs_X_dt(self, X, Y):\n",
    "        \"\"\"Compute the right hand side of the X-ODE. Note this has been scaled.\"\"\"\n",
    "\n",
    "        dXdt = (\n",
    "                np.roll(X, 1) * (np.roll(X, -1) - np.roll(X, 2)) -\n",
    "                X + self.Fs - self.h * Y.reshape(self.K, self.J).mean(1) # Using Y mean\n",
    "        )\n",
    "        return self.dt * dXdt\n",
    "\n",
    "    def _rhs_Y_dt(self, X, Y):\n",
    "        \"\"\"Compute the right hand side of the Y-ODE.\"\"\"\n",
    "        dYdt = self.c * (\n",
    "                          np.roll(Y, -1) * ( np.roll(Y, 1) - np.roll(Y, -2) )\n",
    "                       - Y + self.Ff + self.h * np.repeat(X, self.J) # repeat so x's match y's\n",
    "               )\n",
    "        return self.dt * dYdt\n",
    "\n",
    "    def _rhs_dx_dt(self, X, dx, dy):\n",
    "        \"\"\"Computhe rhs of the dx-ODE\"\"\"\n",
    "        ddxdt = (\n",
    "                    np.roll(dx, 1) * ( np.roll(X, -1) - np.roll(X, 2) )\n",
    "                    + np.roll(X, 1) * ( np.roll(dx, -1) - np.roll(dx, 2) ) - dx\n",
    "                   - self.h * dy.reshape(self.K, self.J).mean(1)\n",
    "        )\n",
    "        return self.dt * ddxdt\n",
    "\n",
    "    def _rhs_dy_dt(self, Y, dx, dy):\n",
    "        \"\"\"Computhe rhs of the dy-ODE\"\"\"\n",
    "        ddydt = self.c * (\n",
    "                            np.roll(dy, -1) * (np.roll(Y, 1) - np.roll(Y, -2) )\n",
    "                          + np.roll(Y, -1) * (np.roll(dy, 1) - np.roll(dy, -2) )\n",
    "                        - dy + self.h * np.repeat(dx, self.J)\n",
    "        )\n",
    "        return self.dt * ddydt\n",
    "\n",
    "    def _rhs_dt(self, X, Y, dx, dy):\n",
    "        return self._rhs_X_dt(X, Y), self._rhs_Y_dt(X, Y), self._rhs_dx_dt(X, dx, dy), self._rhs_dy_dt(Y, dx, dy)\n",
    "\n",
    "    def _step(self):\n",
    "        \"\"\"Integrate one time step\"\"\"\n",
    "\n",
    "        # RK Coefficients\n",
    "        k1_X, k1_Y, k1_dx, k1_dy = self._rhs_dt(self.X, self.Y,\n",
    "                                                self.dx, self.dy)\n",
    "        k2_X, k2_Y, k2_dx, k2_dy = self._rhs_dt(self.X + k1_X / 2, self.Y + k1_Y / 2,\n",
    "                                                self.X + k1_X / 2, self.dy + k1_dy / 2)\n",
    "        k3_X, k3_Y, k3_dx, k3_dy = self._rhs_dt(self.X + k2_X / 2, self.Y + k2_Y / 2,\n",
    "                                               self.dx + k2_dx / 2, self.dy + k2_dy / 2)\n",
    "        k4_X, k4_Y, k4_dx, k4_dy = self._rhs_dt(self.X + k3_X, self.Y + k3_Y,\n",
    "                                               self.dx + k3_dx / 2, self.dy + k3_dy / 2)\n",
    "\n",
    "        # Update State\n",
    "        self.X += 1 / 6 * (k1_X + 2 * k2_X + 2 * k3_X + k4_X)\n",
    "        self.Y += 1 / 6 * (k1_Y + 2 * k2_Y + 2 * k3_Y + k4_Y)\n",
    "        self.dx += 1 / 6 * (k1_dx + 2 * k2_dx + 2 * k3_dx + k4_dx)\n",
    "        self.dy += 1 / 6 * (k1_dy + 2 * k2_dy + 2 * k3_dy + k4_dy)\n",
    "        self.step_count += 1\n",
    "        \n",
    "        # Store history\n",
    "        if (self.step_count%self.save_every == 0):\n",
    "            self._history_X.append(self.X.copy())\n",
    "            self._history_Y.append(self.Y.copy())\n",
    "            self._history_dx.append(self.dx.copy())\n",
    "            self._history_dy.append(self.dy.copy())\n",
    "\n",
    "    def integrate(self, time):  \n",
    "        \"\"\"time: how long we integrate for in adimensional time.\"\"\"\n",
    "        steps = int(time / self.dt)\n",
    "        for n in tqdm(range(steps), disable = self.noprog):\n",
    "            self._step()\n",
    "            \n",
    "    def clear_history(self):\n",
    "        \"\"\"clears history of variable evolution\"\"\"\n",
    "        self._history_X = []\n",
    "        self._history_Y = []\n",
    "        self._history_dx = []\n",
    "        self._history_dy = []\n",
    "    \n",
    "    def set_state(self, x, tangent_x):\n",
    "        \"\"\"x is [X, Y]. tangent_x is [dx, dy]\"\"\"\n",
    "        self.X = x[:self.K]\n",
    "        self.Y = x[self.K:]\n",
    "        self.dx = tangent_x[: self.K]\n",
    "        self.dy = tangent_x[self.K: ] \n",
    "    \n",
    "    @property\n",
    "    def state(self):\n",
    "        \"\"\"Where we are\"\"\"\n",
    "        return np.concatenate([self.X, self.Y, self.dx, self.dy])\n",
    "    \n",
    "    @property\n",
    "    def time(self):\n",
    "        \"\"\"a-dimensional time\"\"\"\n",
    "        return self.dt * self.step_count\n",
    "    \n",
    "    @property\n",
    "    def parameter_dict(self):\n",
    "        param = {\n",
    "        'h': self.h, # L96\n",
    "        'Fs': self.Fs,\n",
    "        'Ff': self.Ff,\n",
    "        'c': self.c,\n",
    "        'J': self.J,\n",
    "        'K': self.K,\n",
    "        'Number of variables': self.size,\n",
    "        'b': self.b,\n",
    "        'dt': self.dt\n",
    "        }\n",
    "        return param\n",
    "    \n",
    "    @property\n",
    "    def run_data(self):\n",
    "        \"\"\"Returns xarray of run data\"\"\"\n",
    "        if (len(self._history_X) == 0):\n",
    "            print('No history to look at!')\n",
    "        dic = {}\n",
    "        _time = np.arange(self.step_count - (len(self._history_X) - 1) * self.save_every,\n",
    "                          self.step_count + 1, self.save_every) * self.dt\n",
    "        # Notice we add step count. Might change run_data if you have cleared history.\n",
    "        \n",
    "        dic['X'] = xr.DataArray(self._history_X, dims=['time', 'x'], name='X',\n",
    "                                coords = {'time': _time,'x': np.arange(self.K)})\n",
    "        dic['Y'] = xr.DataArray(self._history_Y, dims=['time', 'y'], name='Y',\n",
    "                                coords = {'time': _time,'y': np.arange(self.K * self.J)})\n",
    "\n",
    "        dic['dx'] = xr.DataArray(self._history_dx, dims=['time', 'x'], name='dx',\n",
    "                                coords = {'time': _time,'x': np.arange(self.K)})\n",
    "        dic['dy'] = xr.DataArray(self._history_dy, dims=['time', 'y'], name='dy',\n",
    "                                coords = {'time': _time,'y': np.arange(self.K * self.J)})\n",
    "        # Slow Variables above fast ones\n",
    "        dic['X_repeat'] = xr.DataArray(np.repeat(self._history_X, self.J, axis=1),\n",
    "                                   dims=['time', 'y'], name='X_repeat',\n",
    "                                    coords = {'time': _time,'y': np.arange(self.K * self.J)})# X's above the y's\n",
    "        \n",
    "        return xr.Dataset(dic, attrs = self.parameter_dict)"
   ]
  },
  {
   "cell_type": "code",
   "execution_count": 241,
   "metadata": {},
   "outputs": [],
   "source": [
    "runner = TangentIntegratorL96(K = 2, J = 2)"
   ]
  },
  {
   "cell_type": "code",
   "execution_count": 242,
   "metadata": {},
   "outputs": [
    {
     "data": {
      "application/vnd.jupyter.widget-view+json": {
       "model_id": "2877fc654cbe44119efc6a72c41f9e3b",
       "version_major": 2,
       "version_minor": 0
      },
      "text/plain": [
       "HBox(children=(FloatProgress(value=0.0, max=1000.0), HTML(value='')))"
      ]
     },
     "metadata": {},
     "output_type": "display_data"
    },
    {
     "name": "stdout",
     "output_type": "stream",
     "text": [
      "\n"
     ]
    }
   ],
   "source": [
    "runner.integrate(1)"
   ]
  },
  {
   "cell_type": "code",
   "execution_count": 243,
   "metadata": {},
   "outputs": [
    {
     "data": {
      "text/html": [
       "<pre>&lt;xarray.Dataset&gt;\n",
       "Dimensions:   (time: 101, x: 2, y: 4)\n",
       "Coordinates:\n",
       "  * time      (time) float64 0.0 0.01 0.02 0.03 0.04 ... 0.96 0.97 0.98 0.99 1.0\n",
       "  * x         (x) int64 0 1\n",
       "  * y         (y) int64 0 1 2 3\n",
       "Data variables:\n",
       "    X         (time, x) float64 0.7154 0.3722 0.8031 ... 4.733 4.823 4.718\n",
       "    Y         (time, y) float64 0.0 0.0 0.0 0.0 ... 3.72 -1.725 8.83 6.428\n",
       "    dx        (time, x) float64 0.5908 0.3119 0.5747 ... -0.3926 -0.7765 -0.3474\n",
       "    dy        (time, y) float64 0.6063 0.8455 0.8156 ... 10.6 26.07 -31.48\n",
       "    X_repeat  (time, y) float64 0.7154 0.7154 0.3722 ... 4.823 4.718 4.718\n",
       "Attributes:\n",
       "    h:                    1\n",
       "    Fs:                   10\n",
       "    Ff:                   6\n",
       "    c:                    10\n",
       "    J:                    2\n",
       "    K:                    2\n",
       "    Number of variables:  6\n",
       "    b:                    4.47213595499958\n",
       "    dt:                   0.001</pre>"
      ],
      "text/plain": [
       "<xarray.Dataset>\n",
       "Dimensions:   (time: 101, x: 2, y: 4)\n",
       "Coordinates:\n",
       "  * time      (time) float64 0.0 0.01 0.02 0.03 0.04 ... 0.96 0.97 0.98 0.99 1.0\n",
       "  * x         (x) int64 0 1\n",
       "  * y         (y) int64 0 1 2 3\n",
       "Data variables:\n",
       "    X         (time, x) float64 0.7154 0.3722 0.8031 ... 4.733 4.823 4.718\n",
       "    Y         (time, y) float64 0.0 0.0 0.0 0.0 ... 3.72 -1.725 8.83 6.428\n",
       "    dx        (time, x) float64 0.5908 0.3119 0.5747 ... -0.3926 -0.7765 -0.3474\n",
       "    dy        (time, y) float64 0.6063 0.8455 0.8156 ... 10.6 26.07 -31.48\n",
       "    X_repeat  (time, y) float64 0.7154 0.7154 0.3722 ... 4.823 4.718 4.718\n",
       "Attributes:\n",
       "    h:                    1\n",
       "    Fs:                   10\n",
       "    Ff:                   6\n",
       "    c:                    10\n",
       "    J:                    2\n",
       "    K:                    2\n",
       "    Number of variables:  6\n",
       "    b:                    4.47213595499958\n",
       "    dt:                   0.001"
      ]
     },
     "execution_count": 243,
     "metadata": {},
     "output_type": "execute_result"
    }
   ],
   "source": [
    "runner.run_data"
   ]
  },
  {
   "cell_type": "code",
   "execution_count": 244,
   "metadata": {},
   "outputs": [],
   "source": [
    "runner.clear_history()"
   ]
  },
  {
   "cell_type": "code",
   "execution_count": 245,
   "metadata": {},
   "outputs": [
    {
     "data": {
      "application/vnd.jupyter.widget-view+json": {
       "model_id": "680224f905bc4569a6c2b1f3ff2cdd61",
       "version_major": 2,
       "version_minor": 0
      },
      "text/plain": [
       "HBox(children=(FloatProgress(value=0.0, max=200.0), HTML(value='')))"
      ]
     },
     "metadata": {},
     "output_type": "display_data"
    },
    {
     "name": "stdout",
     "output_type": "stream",
     "text": [
      "\n"
     ]
    }
   ],
   "source": [
    "runner.integrate(0.2)"
   ]
  },
  {
   "cell_type": "code",
   "execution_count": 246,
   "metadata": {},
   "outputs": [
    {
     "data": {
      "text/html": [
       "<pre>&lt;xarray.Dataset&gt;\n",
       "Dimensions:   (time: 20, x: 2, y: 4)\n",
       "Coordinates:\n",
       "  * time      (time) float64 1.01 1.02 1.03 1.04 1.05 ... 1.17 1.18 1.19 1.2\n",
       "  * x         (x) int64 0 1\n",
       "  * y         (y) int64 0 1 2 3\n",
       "Data variables:\n",
       "    X         (time, x) float64 4.861 4.702 4.905 4.705 ... 5.003 5.239 5.019\n",
       "    Y         (time, y) float64 3.82 -3.182 3.733 10.24 ... 2.082 -2.156 11.19\n",
       "    dx        (time, x) float64 -0.839 -0.4308 -0.9046 ... -0.9458 -0.8988\n",
       "    dy        (time, y) float64 11.18 8.506 49.93 -18.7 ... -14.84 -6.592 6.834\n",
       "    X_repeat  (time, y) float64 4.861 4.861 4.702 4.702 ... 5.239 5.019 5.019\n",
       "Attributes:\n",
       "    h:                    1\n",
       "    Fs:                   10\n",
       "    Ff:                   6\n",
       "    c:                    10\n",
       "    J:                    2\n",
       "    K:                    2\n",
       "    Number of variables:  6\n",
       "    b:                    4.47213595499958\n",
       "    dt:                   0.001</pre>"
      ],
      "text/plain": [
       "<xarray.Dataset>\n",
       "Dimensions:   (time: 20, x: 2, y: 4)\n",
       "Coordinates:\n",
       "  * time      (time) float64 1.01 1.02 1.03 1.04 1.05 ... 1.17 1.18 1.19 1.2\n",
       "  * x         (x) int64 0 1\n",
       "  * y         (y) int64 0 1 2 3\n",
       "Data variables:\n",
       "    X         (time, x) float64 4.861 4.702 4.905 4.705 ... 5.003 5.239 5.019\n",
       "    Y         (time, y) float64 3.82 -3.182 3.733 10.24 ... 2.082 -2.156 11.19\n",
       "    dx        (time, x) float64 -0.839 -0.4308 -0.9046 ... -0.9458 -0.8988\n",
       "    dy        (time, y) float64 11.18 8.506 49.93 -18.7 ... -14.84 -6.592 6.834\n",
       "    X_repeat  (time, y) float64 4.861 4.861 4.702 4.702 ... 5.239 5.019 5.019\n",
       "Attributes:\n",
       "    h:                    1\n",
       "    Fs:                   10\n",
       "    Ff:                   6\n",
       "    c:                    10\n",
       "    J:                    2\n",
       "    K:                    2\n",
       "    Number of variables:  6\n",
       "    b:                    4.47213595499958\n",
       "    dt:                   0.001"
      ]
     },
     "execution_count": 246,
     "metadata": {},
     "output_type": "execute_result"
    }
   ],
   "source": [
    "runner.run_data"
   ]
  },
  {
   "cell_type": "code",
   "execution_count": 276,
   "metadata": {},
   "outputs": [],
   "source": [
    "def posQR(M):\n",
    "    \"\"\" Returns QR decomposition of a matrix with positive diagonals on R.\n",
    "    Parameter, M: Array that is being decomposed\n",
    "    \"\"\"\n",
    "    Q, R = np.linalg.qr(M) # Performing QR decomposition\n",
    "    signs = np.diag(np.sign(np.diagonal(R))) # Matrix with signs of R diagonal on the diagonal\n",
    "    Q, R = np.dot(Q, signs), np.dot(signs, R) # Ensuring R Diagonal is positive\n",
    "    return Q, R\n",
    "\n",
    "class GinelliL96(TangentIntegratorL96):\n",
    "    \"\"\"Builds upon a tangent integrator class to perform the Ginelli algorithm\"\"\"\n",
    "    \n",
    "    def __init__(self, ka, kb, kc, tau=0.1, K=36, J=10, h=1, Ff=6, Fs=10, c=10, dt=0.001, save_every=10,\n",
    "                 X_init=None, Y_init=None, dx_init=None, dy_init=None, noprog=True):\n",
    "        \n",
    "        self.save_every = save_every # how many tau steps we save\n",
    "        run_save_step = (self.save_every * tau)/dt\n",
    "        \n",
    "        super().__init__(K=K, J=J, h=h, Ff=Ff, Fs=Fs, c=c, dt=dt, save_every=run_save_step,\n",
    "                 X_init=X_init, Y_init=Y_init, dx_init=dx_init, dy_init=dy_init, noprog=noprog)\n",
    "        \n",
    "        # Ginelli Parameters\n",
    "        self.ka, self.kb, self.kc, self.tau = ka, kb, kc, tau\n",
    "    \n",
    "        # Ginelli Variables\n",
    "        self.P = np.random.rand(self.size, self.size) # Stretched Matrix\n",
    "        eps = 0.001\n",
    "        self.oldQ = eps * np.identity(self.size)\n",
    "        self.oldQ[0, 1] = eps * 1\n",
    "        self.R = np.random.rand(self.size, self.size)  # Stretching rates\n",
    "        self._history_R = []\n",
    "        self.oldA = np.identity(self.size) # Initial A\n",
    "        self.oldA[0, 1] = 1\n",
    "\n",
    "        # Lyapunov Spectra\n",
    "        self.FTBLE = np.random.rand(int(self.kb), self.size)\n",
    "        self.FTCLE = np.random.rand(int(self.kb), self.size)\n",
    "        self._history_FTBLE = [] # For storing time series\n",
    "        self._history_FTCLE = []\n",
    "\n",
    "        # Lyapunov Vectors\n",
    "        self.BLV = np.random.rand(self.size, self.size)\n",
    "        self.CLV = np.random.rand(self.size, self.size)\n",
    "        self._history_BLV = []\n",
    "        self._history_CLV = []\n",
    "        \n",
    "        self.ginelli_count = 0 # Number of QR steps performed\n",
    "        \n",
    "    def _ginelli_step(self):\n",
    "        \"\"\"One QR step. Take old Q, stretch it, do a QR decomposition.\"\"\"\n",
    "\n",
    "        # Where we are in phase space before ginelli step\n",
    "        phase_state = self.state[:self.size]\n",
    "\n",
    "        # Stretching first column\n",
    "        self.set_state(phase_state, self.oldQ.T[0]) # First column of Q is ic for TLE\n",
    "        self.integrate(self.tau)\n",
    "\n",
    "        # Saving Output\n",
    "        self.P[:, 0] = np.append(self.dx, self.dy)\n",
    "\n",
    "        # Stretching the rest of the columns\n",
    "        for i, column in enumerate(self.oldQ.T[1:]): # Evolve each CLV\n",
    "            self.set_state(phase_state, column)\n",
    "            self._integrate(self.tau)\n",
    "            self.P[:, i] = np.append(self.dx, self.dy) # Building P\n",
    "\n",
    "        # QR decomposition\n",
    "        self.oldQ, self.R = posQR(self.P)\n",
    "        self.ginelli_count += 1\n",
    "\n",
    "    \n",
    "    @property\n",
    "    def le_data(self):\n",
    "        \"\"\"Returns xarray of LEs and LVs\"\"\"\n",
    "        if (len(self._history_X) == 0):\n",
    "            print('No history to look at!')\n",
    "        dic = {}\n",
    "        _time = np.arange(self.ginelli_count - (len(self._history_FTBLE) - 1) * self.save_every,\n",
    "                          self.ginelli_count + 1, self.save_every) * self.tau \n",
    "        # Notice we add step count. Might change run_data if you have cleared history.\n",
    "        \n",
    "        dic['FTBLE'] = xr.DataArray(self._history_FTBLE, dims=['time', 'le_index'], name='FTBLE',\n",
    "                                coords = {'time': _time,'le_index':np.arange(1, 1 + self.size)})\n",
    "        dic['FTCLE'] = xr.DataArray(self._history_FTCLE, dims=['time', 'le_index'], name='FTCLE',\n",
    "                                coords = {'time': _time,'le_index':np.arange(1, 1 + self.size)})\n",
    "        dic['BLV'] = xr.DataArray(self._history_BLV, dims=['time', 'component', 'le_index'], name='BLV',\n",
    "                                coords = {'time': _time,'le_index':np.arange(1, 1 + self.size),\n",
    "                                  'component': np.arange(self.size), 'le_index':np.arange(1, 1 + self.size)})\n",
    "        dic['CLV'] = xr.DataArray(self._history_CLV, dims=['time', 'component', 'le_index'], name='CLV',\n",
    "                                coords = {'time': _time,'le_index':np.arange(1, 1 + self.size),\n",
    "                                  'component': np.arange(self.size), 'le_index':np.arange(1, 1 + self.size)})\n",
    "        \n",
    "        return xr.Dataset(dic, attrs = self.ginelli_dict)\n",
    "        "
   ]
  },
  {
   "cell_type": "code",
   "execution_count": 277,
   "metadata": {},
   "outputs": [],
   "source": [
    "ginelliRunner = GinelliL96(1,1,1,1)"
   ]
  },
  {
   "cell_type": "code",
   "execution_count": 278,
   "metadata": {},
   "outputs": [],
   "source": [
    "ginelliRunner.integrate(1)"
   ]
  },
  {
   "cell_type": "code",
   "execution_count": 279,
   "metadata": {},
   "outputs": [
    {
     "ename": "ValueError",
     "evalue": "different number of dimensions on data and dims: 1 vs 2",
     "output_type": "error",
     "traceback": [
      "\u001b[0;31m---------------------------------------------------------------------------\u001b[0m",
      "\u001b[0;31mValueError\u001b[0m                                Traceback (most recent call last)",
      "\u001b[0;32m<ipython-input-279-e96a0132dd06>\u001b[0m in \u001b[0;36m<module>\u001b[0;34m\u001b[0m\n\u001b[0;32m----> 1\u001b[0;31m \u001b[0mginelliRunner\u001b[0m\u001b[0;34m.\u001b[0m\u001b[0mle_data\u001b[0m\u001b[0;34m\u001b[0m\u001b[0;34m\u001b[0m\u001b[0m\n\u001b[0m",
      "\u001b[0;32m<ipython-input-276-18811433bdcc>\u001b[0m in \u001b[0;36mle_data\u001b[0;34m(self)\u001b[0m\n\u001b[1;32m     82\u001b[0m \u001b[0;34m\u001b[0m\u001b[0m\n\u001b[1;32m     83\u001b[0m         dic['FTBLE'] = xr.DataArray(self._history_FTBLE, dims=['time', 'le_index'], name='FTBLE',\n\u001b[0;32m---> 84\u001b[0;31m                                 coords = {'time': _time,'le_index':np.arange(1, 1 + self.size)})\n\u001b[0m\u001b[1;32m     85\u001b[0m         dic['FTCLE'] = xr.DataArray(self._history_FTCLE, dims=['time', 'le_index'], name='FTCLE',\n\u001b[1;32m     86\u001b[0m                                 coords = {'time': _time,'le_index':np.arange(1, 1 + self.size)})\n",
      "\u001b[0;32m~/anaconda3/envs/personalpy3/lib/python3.6/site-packages/xarray/core/dataarray.py\u001b[0m in \u001b[0;36m__init__\u001b[0;34m(self, data, coords, dims, name, attrs, indexes, fastpath)\u001b[0m\n\u001b[1;32m    341\u001b[0m             \u001b[0mdata\u001b[0m \u001b[0;34m=\u001b[0m \u001b[0m_check_data_shape\u001b[0m\u001b[0;34m(\u001b[0m\u001b[0mdata\u001b[0m\u001b[0;34m,\u001b[0m \u001b[0mcoords\u001b[0m\u001b[0;34m,\u001b[0m \u001b[0mdims\u001b[0m\u001b[0;34m)\u001b[0m\u001b[0;34m\u001b[0m\u001b[0;34m\u001b[0m\u001b[0m\n\u001b[1;32m    342\u001b[0m             \u001b[0mdata\u001b[0m \u001b[0;34m=\u001b[0m \u001b[0mas_compatible_data\u001b[0m\u001b[0;34m(\u001b[0m\u001b[0mdata\u001b[0m\u001b[0;34m)\u001b[0m\u001b[0;34m\u001b[0m\u001b[0;34m\u001b[0m\u001b[0m\n\u001b[0;32m--> 343\u001b[0;31m             \u001b[0mcoords\u001b[0m\u001b[0;34m,\u001b[0m \u001b[0mdims\u001b[0m \u001b[0;34m=\u001b[0m \u001b[0m_infer_coords_and_dims\u001b[0m\u001b[0;34m(\u001b[0m\u001b[0mdata\u001b[0m\u001b[0;34m.\u001b[0m\u001b[0mshape\u001b[0m\u001b[0;34m,\u001b[0m \u001b[0mcoords\u001b[0m\u001b[0;34m,\u001b[0m \u001b[0mdims\u001b[0m\u001b[0;34m)\u001b[0m\u001b[0;34m\u001b[0m\u001b[0;34m\u001b[0m\u001b[0m\n\u001b[0m\u001b[1;32m    344\u001b[0m             \u001b[0mvariable\u001b[0m \u001b[0;34m=\u001b[0m \u001b[0mVariable\u001b[0m\u001b[0;34m(\u001b[0m\u001b[0mdims\u001b[0m\u001b[0;34m,\u001b[0m \u001b[0mdata\u001b[0m\u001b[0;34m,\u001b[0m \u001b[0mattrs\u001b[0m\u001b[0;34m,\u001b[0m \u001b[0mfastpath\u001b[0m\u001b[0;34m=\u001b[0m\u001b[0;32mTrue\u001b[0m\u001b[0;34m)\u001b[0m\u001b[0;34m\u001b[0m\u001b[0;34m\u001b[0m\u001b[0m\n\u001b[1;32m    345\u001b[0m             indexes = dict(\n",
      "\u001b[0;32m~/anaconda3/envs/personalpy3/lib/python3.6/site-packages/xarray/core/dataarray.py\u001b[0m in \u001b[0;36m_infer_coords_and_dims\u001b[0;34m(shape, coords, dims)\u001b[0m\n\u001b[1;32m    120\u001b[0m         raise ValueError(\n\u001b[1;32m    121\u001b[0m             \u001b[0;34m\"different number of dimensions on data \"\u001b[0m\u001b[0;34m\u001b[0m\u001b[0;34m\u001b[0m\u001b[0m\n\u001b[0;32m--> 122\u001b[0;31m             \u001b[0;34m\"and dims: %s vs %s\"\u001b[0m \u001b[0;34m%\u001b[0m \u001b[0;34m(\u001b[0m\u001b[0mlen\u001b[0m\u001b[0;34m(\u001b[0m\u001b[0mshape\u001b[0m\u001b[0;34m)\u001b[0m\u001b[0;34m,\u001b[0m \u001b[0mlen\u001b[0m\u001b[0;34m(\u001b[0m\u001b[0mdims\u001b[0m\u001b[0;34m)\u001b[0m\u001b[0;34m)\u001b[0m\u001b[0;34m\u001b[0m\u001b[0;34m\u001b[0m\u001b[0m\n\u001b[0m\u001b[1;32m    123\u001b[0m         )\n\u001b[1;32m    124\u001b[0m     \u001b[0;32melse\u001b[0m\u001b[0;34m:\u001b[0m\u001b[0;34m\u001b[0m\u001b[0;34m\u001b[0m\u001b[0m\n",
      "\u001b[0;31mValueError\u001b[0m: different number of dimensions on data and dims: 1 vs 2"
     ]
    }
   ],
   "source": [
    "ginelliRunner.le_data"
   ]
  },
  {
   "cell_type": "code",
   "execution_count": 280,
   "metadata": {},
   "outputs": [
    {
     "data": {
      "text/html": [
       "<pre>&lt;xarray.Dataset&gt;\n",
       "Dimensions:   (time: 1, x: 36, y: 360)\n",
       "Coordinates:\n",
       "  * time      (time) float64 1.0\n",
       "  * x         (x) int64 0 1 2 3 4 5 6 7 8 9 10 ... 26 27 28 29 30 31 32 33 34 35\n",
       "  * y         (y) int64 0 1 2 3 4 5 6 7 8 ... 352 353 354 355 356 357 358 359\n",
       "Data variables:\n",
       "    X         (time, x) float64 0.2875 0.1375 0.448 ... 0.4724 0.4779 0.9347\n",
       "    Y         (time, y) float64 0.0 0.0 0.0 0.0 0.0 0.0 ... 0.0 0.0 0.0 0.0 0.0\n",
       "    dx        (time, x) float64 0.07541 0.3035 0.9686 ... 0.9129 0.6848 0.0756\n",
       "    dy        (time, y) float64 0.1909 0.3639 0.596 ... 0.3416 0.5254 0.4112\n",
       "    X_repeat  (time, y) float64 0.2875 0.2875 0.2875 ... 0.9347 0.9347 0.9347\n",
       "Attributes:\n",
       "    h:                    1\n",
       "    Fs:                   10\n",
       "    Ff:                   6\n",
       "    c:                    10\n",
       "    J:                    10\n",
       "    K:                    36\n",
       "    Number of variables:  396\n",
       "    b:                    10.0\n",
       "    dt:                   0.001</pre>"
      ],
      "text/plain": [
       "<xarray.Dataset>\n",
       "Dimensions:   (time: 1, x: 36, y: 360)\n",
       "Coordinates:\n",
       "  * time      (time) float64 1.0\n",
       "  * x         (x) int64 0 1 2 3 4 5 6 7 8 9 10 ... 26 27 28 29 30 31 32 33 34 35\n",
       "  * y         (y) int64 0 1 2 3 4 5 6 7 8 ... 352 353 354 355 356 357 358 359\n",
       "Data variables:\n",
       "    X         (time, x) float64 0.2875 0.1375 0.448 ... 0.4724 0.4779 0.9347\n",
       "    Y         (time, y) float64 0.0 0.0 0.0 0.0 0.0 0.0 ... 0.0 0.0 0.0 0.0 0.0\n",
       "    dx        (time, x) float64 0.07541 0.3035 0.9686 ... 0.9129 0.6848 0.0756\n",
       "    dy        (time, y) float64 0.1909 0.3639 0.596 ... 0.3416 0.5254 0.4112\n",
       "    X_repeat  (time, y) float64 0.2875 0.2875 0.2875 ... 0.9347 0.9347 0.9347\n",
       "Attributes:\n",
       "    h:                    1\n",
       "    Fs:                   10\n",
       "    Ff:                   6\n",
       "    c:                    10\n",
       "    J:                    10\n",
       "    K:                    36\n",
       "    Number of variables:  396\n",
       "    b:                    10.0\n",
       "    dt:                   0.001"
      ]
     },
     "execution_count": 280,
     "metadata": {},
     "output_type": "execute_result"
    }
   ],
   "source": [
    "ginelliRunner.run_data"
   ]
  },
  {
   "cell_type": "code",
   "execution_count": null,
   "metadata": {},
   "outputs": [],
   "source": []
  }
 ],
 "metadata": {
  "kernelspec": {
   "display_name": "Python3 (personal)",
   "language": "python",
   "name": "python3_personal"
  },
  "language_info": {
   "codemirror_mode": {
    "name": "ipython",
    "version": 3
   },
   "file_extension": ".py",
   "mimetype": "text/x-python",
   "name": "python",
   "nbconvert_exporter": "python",
   "pygments_lexer": "ipython3",
   "version": "3.6.10"
  }
 },
 "nbformat": 4,
 "nbformat_minor": 2
}
