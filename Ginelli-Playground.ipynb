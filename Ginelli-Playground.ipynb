{
 "cells": [
  {
   "cell_type": "code",
   "execution_count": 23,
   "metadata": {},
   "outputs": [],
   "source": [
    "# -----------------------------------------\n",
    "# Imports\n",
    "# -----------------------------------------\n",
    "import numpy as np\n",
    "import pickle\n",
    "import time as tm\n",
    "import xarray as xr\n",
    "import os\n",
    "import matplotlib.pyplot as plt\n",
    "import random\n",
    "\n",
    "# Lorenz 96 integrator\n",
    "import l96adaptive as l96t\n",
    "\n",
    "# Ginelli Imports\n",
    "import ginelli_utilities as utilities\n",
    "from ginelli_observers import *\n",
    "from ginelli_plot import *"
   ]
  },
  {
   "cell_type": "code",
   "execution_count": 24,
   "metadata": {},
   "outputs": [],
   "source": [
    "# -----------------------------------------\n",
    "# Setup & Parameter Choices\n",
    "# -----------------------------------------"
   ]
  },
  {
   "cell_type": "code",
   "execution_count": 28,
   "metadata": {},
   "outputs": [
    {
     "name": "stdout",
     "output_type": "stream",
     "text": [
      "Made directory ginelli.\n",
      "\n",
      "Made directory ginelli/trajectory.\n",
      "\n",
      "Made directory ginelli/step2.\n",
      "\n",
      "Made directory ginelli/step2/R.\n",
      "\n",
      "Made directory ginelli/step2/BLV.\n",
      "\n",
      "Made directory ginelli/step3.\n",
      "\n",
      "Made directory ginelli/step4.\n",
      "\n",
      "Made directory ginelli/step5.\n",
      "\n"
     ]
    }
   ],
   "source": [
    "dump_size = 50 # How many observations before output\n",
    "\n",
    "# Time Parameter Choices\n",
    "tau = 0.1 # tau & transient feed in to the integrator\n",
    "transient = 10\n",
    "ka = 50 # BLV convergence\n",
    "kb = 100 # Number of observations\n",
    "kc = 50 # CLV convergence\n",
    "\n",
    "# Integrator\n",
    "K = 5\n",
    "J =5\n",
    "runner = l96t.Integrator(K=K, J=J)\n",
    "tangent_runner = l96t.TangentIntegrator(K=K, J=J)\n",
    "ginelli_runner = utilities.Forward(tangent_runner, tau)\n",
    "\n",
    "# Observables\n",
    "Rlooker = RMatrixObserver(ginelli_runner)\n",
    "BLVlooker = BLVMatrixObserver(ginelli_runner)\n",
    "TrajectoryLooker = TrajectoryObserver(ginelli_runner)\n",
    "\n",
    "# Timing the algorithm\n",
    "timings = {}\n",
    "start = tm.time()\n",
    "\n",
    "# Making Output Storage\n",
    "utilities.make_cupboard()"
   ]
  },
  {
   "cell_type": "code",
   "execution_count": 2,
   "metadata": {},
   "outputs": [
    {
     "name": "stdout",
     "output_type": "stream",
     "text": [
      "[0.0625   0.296875 0.53125  0.765625 1.      ]\n"
     ]
    }
   ],
   "source": [
    "import numpy as np\n",
    "print()"
   ]
  },
  {
   "cell_type": "code",
   "execution_count": 29,
   "metadata": {},
   "outputs": [
    {
     "name": "stdout",
     "output_type": "stream",
     "text": [
      "\n",
      "Transient beginning.\n",
      "\n",
      "\n",
      "Transient finished. Beginning BLV convergence steps.\n",
      "\n"
     ]
    },
    {
     "data": {
      "application/vnd.jupyter.widget-view+json": {
       "model_id": "c06688be82cf42c0bb69473cc6cd6b2b",
       "version_major": 2,
       "version_minor": 0
      },
      "text/plain": [
       "HBox(children=(FloatProgress(value=0.0, max=50.0), HTML(value='')))"
      ]
     },
     "metadata": {},
     "output_type": "display_data"
    },
    {
     "name": "stdout",
     "output_type": "stream",
     "text": [
      "\n",
      "\n",
      "BLV convergence finished. Beginning to observe BLVs.\n",
      "\n"
     ]
    },
    {
     "data": {
      "application/vnd.jupyter.widget-view+json": {
       "model_id": "78c1ffc9c86d45ccb5b36d15d704374c",
       "version_major": 2,
       "version_minor": 0
      },
      "text/plain": [
       "HBox(children=(FloatProgress(value=0.0, max=2.0), HTML(value='')))"
      ]
     },
     "metadata": {},
     "output_type": "display_data"
    },
    {
     "data": {
      "application/vnd.jupyter.widget-view+json": {
       "model_id": "4cc6706f49744eaea68f43db1c753986",
       "version_major": 2,
       "version_minor": 0
      },
      "text/plain": [
       "HBox(children=(FloatProgress(value=0.0, max=50.0), HTML(value='')))"
      ]
     },
     "metadata": {},
     "output_type": "display_data"
    },
    {
     "name": "stdout",
     "output_type": "stream",
     "text": [
      "\n",
      "Observations written to ginelli/step2/R/R1.nc. Erasing personal log.\n",
      "\n",
      "Observations written to ginelli/step2/BLV/BLV1.nc. Erasing personal log.\n",
      "\n",
      "Observations written to ginelli/trajectory/Trajectory1.nc. Erasing personal log.\n",
      "\n"
     ]
    },
    {
     "data": {
      "application/vnd.jupyter.widget-view+json": {
       "model_id": "e2b67b7998be457e952e9a5640ce02ce",
       "version_major": 2,
       "version_minor": 0
      },
      "text/plain": [
       "HBox(children=(FloatProgress(value=0.0, max=50.0), HTML(value='')))"
      ]
     },
     "metadata": {},
     "output_type": "display_data"
    },
    {
     "name": "stdout",
     "output_type": "stream",
     "text": [
      "\n",
      "Observations written to ginelli/step2/R/R2.nc. Erasing personal log.\n",
      "\n",
      "Observations written to ginelli/step2/BLV/BLV2.nc. Erasing personal log.\n",
      "\n",
      "Observations written to ginelli/trajectory/Trajectory2.nc. Erasing personal log.\n",
      "\n",
      "\n"
     ]
    },
    {
     "data": {
      "application/vnd.jupyter.widget-view+json": {
       "model_id": "33b9202b9f3b4b988fe0deca257d3ca7",
       "version_major": 2,
       "version_minor": 0
      },
      "text/plain": [
       "HBox(children=(FloatProgress(value=1.0, bar_style='info', max=1.0), HTML(value='')))"
      ]
     },
     "metadata": {},
     "output_type": "display_data"
    },
    {
     "name": "stdout",
     "output_type": "stream",
     "text": [
      "\n",
      "I have no observations! :(\n",
      "I have no observations! :(\n",
      "I have no observations! :(\n",
      "\n",
      "BLV observations finished. CLV convergence beginning. Just observing Rs.\n",
      "\n"
     ]
    },
    {
     "data": {
      "application/vnd.jupyter.widget-view+json": {
       "model_id": "9474f366b55242c7969900a17e674b67",
       "version_major": 2,
       "version_minor": 0
      },
      "text/plain": [
       "HBox(children=(FloatProgress(value=0.0, max=50.0), HTML(value='')))"
      ]
     },
     "metadata": {},
     "output_type": "display_data"
    },
    {
     "name": "stdout",
     "output_type": "stream",
     "text": [
      "\n",
      "Observations written to ginelli/step3/R3.nc. Erasing personal log.\n",
      "\n"
     ]
    },
    {
     "data": {
      "application/vnd.jupyter.widget-view+json": {
       "model_id": "45b7c978e2234985b3b5ade0e6bf803a",
       "version_major": 2,
       "version_minor": 0
      },
      "text/plain": [
       "HBox(children=(FloatProgress(value=1.0, bar_style='info', max=1.0), HTML(value='')))"
      ]
     },
     "metadata": {},
     "output_type": "display_data"
    },
    {
     "name": "stdout",
     "output_type": "stream",
     "text": [
      "\n",
      "I have no observations! :(\n",
      "\n",
      "Forward part all done :)\n",
      "Pushed A through R3.nc. Overwriting A.npy.\n",
      "\n",
      "Observations written to ginelli/step5/LyapObs2.nc. Erasing personal log.\n",
      "\n",
      "Observations written to ginelli/step5/LyapObs1.nc. Erasing personal log.\n",
      "\n",
      "Ginelli Algorithm finished.\n"
     ]
    }
   ],
   "source": [
    "# -----------------------------------------\n",
    "# Forward Part of Ginelli Algorithm\n",
    "# -----------------------------------------\n",
    "\n",
    "# -----------------------------------------\n",
    "# Transient and Step 1, BLV Convergence\n",
    "# -----------------------------------------\n",
    "\n",
    "print('\\nTransient beginning.\\n')\n",
    "runner.integrate(transient) # runner does the transient integration, then we update tangent_runner state\n",
    "tangent_runner.set_state(runner.state, tangent_runner.tangent_state)\n",
    "print('\\nTransient finished. Beginning BLV convergence steps.\\n')\n",
    "\n",
    "timings.update({'transient': tm.time() - start})\n",
    "\n",
    "# BLV Convergence steps\n",
    "\n",
    "ginelli_runner.run(ka, noprog=False)\n",
    "\n",
    "timings.update({'Step1': tm.time() - timings['transient'] - start})\n",
    "pickle.dump(timings, open(\"ginelli/timings.p\", \"wb\" ))\n",
    "\n",
    "# -----------------------------------------\n",
    "# Step 2, BLV Observation.\n",
    "# -----------------------------------------\n",
    "\n",
    "print('\\nBLV convergence finished. Beginning to observe BLVs.\\n')\n",
    "blocks = int(kb/dump_size) # How many times we dump\n",
    "remainder = kb%dump_size # Rest of observations\n",
    "\n",
    "for i in tqdm(range(blocks)):\n",
    "\n",
    "    utilities.make_observations(ginelli_runner, [Rlooker, BLVlooker, TrajectoryLooker], dump_size, 1, noprog=False)\n",
    "    # Observation frequency has to be 1 if we're reversing CLVs\n",
    "    Rlooker.dump('ginelli/step2/R')\n",
    "    BLVlooker.dump('ginelli/step2/BLV')\n",
    "    TrajectoryLooker.dump('ginelli/trajectory')\n",
    "\n",
    "utilities.make_observations(ginelli_runner, [Rlooker, BLVlooker], remainder, 1, noprog=False)\n",
    "Rlooker.dump('ginelli/step2/R')\n",
    "BLVlooker.dump('ginelli/step2/BLV')\n",
    "TrajectoryLooker.dump('ginelli/trajectory')\n",
    "\n",
    "timings.update({'Step2': tm.time() - timings['Step1'] - start})\n",
    "pickle.dump(timings, open(\"ginelli/timings.p\", \"wb\" ))\n",
    "\n",
    "# -----------------------------------------\n",
    "# Step 3, CLV Convergence Step, Forward\n",
    "# -----------------------------------------\n",
    "\n",
    "print('\\nBLV observations finished. CLV convergence beginning. Just observing Rs.\\n')\n",
    "blocks = int(kc/dump_size)\n",
    "remainder = kc%dump_size\n",
    "\n",
    "for i in range(blocks):\n",
    "\n",
    "    utilities.make_observations(ginelli_runner, [Rlooker], dump_size, 1, noprog=False)\n",
    "    Rlooker.dump('ginelli/step3')\n",
    "\n",
    "utilities.make_observations(ginelli_runner, [Rlooker], remainder, 1, noprog=False)\n",
    "Rlooker.dump('ginelli/step3')\n",
    "\n",
    "print('\\nForward part all done :)')\n",
    "\n",
    "timings.update({'Step3': tm.time() - timings['Step2'] - start})\n",
    "pickle.dump(timings, open(\"ginelli/timings.p\", \"wb\" ))\n",
    "\n",
    "# -----------------------------------------\n",
    "# Backward Part of Ginelli Algorithm\n",
    "# -----------------------------------------\n",
    "\n",
    "# -----------------------------------------\n",
    "# Step 4, Reversing CLV Convergence Steps\n",
    "# -----------------------------------------\n",
    "\n",
    "R_files = os.listdir('ginelli/step3')\n",
    "R_files.sort(reverse=True) # Ensuring files are in the right order\n",
    "\n",
    "A = np.identity(ginelli_runner.size)\n",
    "\n",
    "for file in R_files:\n",
    "    R_history = xr.open_dataset('ginelli/step3/' + file)\n",
    "    A = utilities.block_squish_norm(R_history, A) # This A is one timestep ahead of the R that pushed it\n",
    "    R_history.close()\n",
    "    print(f'Pushed A through {file}. Overwriting A.npy.\\n')\n",
    "    np.save('ginelli/step4/A.npy', A)\n",
    "\n",
    "timings.update({'Step4': tm.time() - timings['Step3'] - start})\n",
    "pickle.dump(timings, open(\"ginelli/timings.p\", \"wb\" ))\n",
    "\n",
    "# -----------------------------------------\n",
    "# Step 5, Observing LVs and LEs\n",
    "# -----------------------------------------\n",
    "\n",
    "# Sorting files we will be working with\n",
    "\n",
    "R_files = os.listdir('ginelli/step2/R')\n",
    "R_files.sort(reverse=True)\n",
    "\n",
    "BLV_files = os.listdir('ginelli/step2/BLV')\n",
    "BLV_files.sort(reverse=True)\n",
    "\n",
    "# Setting up observable storage\n",
    "\n",
    "parameters = ginelli_runner.parameter_dict.copy()\n",
    "parameters.update({'transient':transient,'ka':ka, 'kb':kb, 'kc':kc})\n",
    "LyapunovLooker = LyapunovObserver(parameters, utilities.max_digit(BLV_files))\n",
    "\n",
    "for [rfile, bfile] in zip(R_files, BLV_files): # Loop over files that were dumped\n",
    "    R_history = xr.open_dataset('ginelli/step2/R/' + rfile)\n",
    "    BLV_history = xr.open_dataset('ginelli/step2/BLV/' + bfile)\n",
    "\n",
    "    Rs, BLVs = np.flip(R_history.R, axis = 0), np.flip(BLV_history.BLV, axis = 0) # Times series reversed\n",
    "\n",
    "    for R, BLV in zip(Rs, BLVs):\n",
    "\n",
    "        # CLV Calculation\n",
    "        CLV = np.matmul(BLV.values, A)\n",
    "\n",
    "        # FTCLE Calculation\n",
    "        squishedA = np.linalg.solve(R, A)\n",
    "        norms = np.linalg.norm(squishedA, axis=0, ord=2)\n",
    "        ftcle = - np.log(norms)/(tau)\n",
    "        A = squishedA/norms\n",
    "\n",
    "        # FTBLE Calculation\n",
    "        ftble = np.log(np.diag(R))/(tau)\n",
    "\n",
    "        # Making observation\n",
    "        time = R.time.item()\n",
    "        LyapunovLooker.look(time, CLV, BLV.values, ftcle, ftble)\n",
    "\n",
    "\n",
    "    LyapunovLooker.dump('ginelli/step5')\n",
    "    R_history.close()\n",
    "    BLV_history.close()\n",
    "\n",
    "timings.update({'Step5': tm.time() - timings['Step4'] - start})\n",
    "pickle.dump(timings, open(\"ginelli/timings.p\", \"wb\" ))\n",
    "\n",
    "print('Ginelli Algorithm finished.')\n"
   ]
  },
  {
   "cell_type": "code",
   "execution_count": 30,
   "metadata": {},
   "outputs": [],
   "source": [
    "ds.close()\n",
    "ds = xr.open_mfdataset(f'ginelli/step5/*.nc', parallel=True, combine='by_coords', concat_dim='time')"
   ]
  },
  {
   "cell_type": "code",
   "execution_count": 31,
   "metadata": {},
   "outputs": [
    {
     "data": {
      "text/plain": [
       "[<matplotlib.lines.Line2D at 0x150056e52518>]"
      ]
     },
     "execution_count": 31,
     "metadata": {},
     "output_type": "execute_result"
    },
    {
     "data": {
      "image/png": "[encoded data removed]",
      "text/plain": [
       "<Figure size 432x288 with 1 Axes>"
      ]
     },
     "metadata": {
      "needs_background": "light"
     },
     "output_type": "display_data"
    }
   ],
   "source": [
    "plt.plot(spectra(ds), '.-')\n",
    "plt.plot(spectra(ds, geometry='B' ), '.-')"
   ]
  },
  {
   "cell_type": "code",
   "execution_count": 32,
   "metadata": {},
   "outputs": [
    {
     "data": {
      "text/plain": [
       "[<matplotlib.lines.Line2D at 0x150056e76128>]"
      ]
     },
     "execution_count": 32,
     "metadata": {},
     "output_type": "execute_result"
    },
    {
     "data": {
      "image/png": "[encoded data removed]",
      "text/plain": [
       "<Figure size 432x288 with 1 Axes>"
      ]
     },
     "metadata": {
      "needs_background": "light"
     },
     "output_type": "display_data"
    }
   ],
   "source": [
    "plt.plot(np.std(ds.ftble, axis=0), '.-')\n",
    "plt.plot(np.std(ds.ftcle, axis=0), '.-')"
   ]
  },
  {
   "cell_type": "code",
   "execution_count": null,
   "metadata": {},
   "outputs": [],
   "source": [
    "plt.plot(ds.ftble.sel(le_index=10))\n",
    "plt.plot(ds.ftcle.sel(le_index=10))"
   ]
  },
  {
   "cell_type": "code",
   "execution_count": null,
   "metadata": {},
   "outputs": [],
   "source": []
  }
 ],
 "metadata": {
  "kernelspec": {
   "display_name": "Python3 (personal)",
   "language": "python",
   "name": "python3_personal"
  },
  "language_info": {
   "codemirror_mode": {
    "name": "ipython",
    "version": 3
   },
   "file_extension": ".py",
   "mimetype": "text/x-python",
   "name": "python",
   "nbconvert_exporter": "python",
   "pygments_lexer": "ipython3",
   "version": "3.6.10"
  }
 },
 "nbformat": 4,
 "nbformat_minor": 2
}
