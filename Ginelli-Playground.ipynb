{
 "cells": [
  {
   "cell_type": "code",
   "execution_count": 19,
   "metadata": {},
   "outputs": [],
   "source": [
    "# -----------------------------------------\n",
    "# Imports\n",
    "# -----------------------------------------\n",
    "import numpy as np\n",
    "import pickle\n",
    "import time as tm\n",
    "import xarray as xr\n",
    "import os\n",
    "import matplotlib.pyplot as plt\n",
    "import random\n",
    "\n",
    "# Lorenz 96 integrator\n",
    "import l96tangent as l96t\n",
    "\n",
    "# Ginelli Imports\n",
    "import ginelli_utilities as utilities\n",
    "from ginelli_observers import *\n",
    "from ginelli_plot import *"
   ]
  },
  {
   "cell_type": "code",
   "execution_count": 20,
   "metadata": {},
   "outputs": [],
   "source": [
    "# -----------------------------------------\n",
    "# Setup & Parameter Choices\n",
    "# -----------------------------------------"
   ]
  },
  {
   "cell_type": "code",
   "execution_count": 21,
   "metadata": {},
   "outputs": [
    {
     "name": "stdout",
     "output_type": "stream",
     "text": [
      "Made directory ginelli.\n",
      "\n",
      "Made directory ginelli/trajectory.\n",
      "\n",
      "Made directory ginelli/step2.\n",
      "\n",
      "Made directory ginelli/step2/R.\n",
      "\n",
      "Made directory ginelli/step2/BLV.\n",
      "\n",
      "Made directory ginelli/step3.\n",
      "\n",
      "Made directory ginelli/step4.\n",
      "\n",
      "Made directory ginelli/step5.\n",
      "\n"
     ]
    }
   ],
   "source": [
    "dump_size = 5 # How many observations before output\n",
    "\n",
    "# Time Parameter Choices\n",
    "tau = 0.005 # tau & transient feed in to the integrator\n",
    "transient = 2\n",
    "ka = 5 # BLV convergence\n",
    "kb = 10 # Number of observations\n",
    "kc = 5 # CLV convergence\n",
    "\n",
    "# Integrator\n",
    "runner = l96t.Integrator()\n",
    "ginelli_runner = utilities.Forward(runner, tau)\n",
    "\n",
    "# Observables\n",
    "Rlooker = RMatrixObserver(ginelli_runner)\n",
    "BLVlooker = BLVMatrixObserver(ginelli_runner)\n",
    "TrajectoryLooker = TrajectoryObserver(ginelli_runner)\n",
    "\n",
    "# Timing the algorithm\n",
    "timings = {}\n",
    "start = tm.time()\n",
    "\n",
    "# Making Output Storage\n",
    "utilities.make_cupboard()"
   ]
  },
  {
   "cell_type": "code",
   "execution_count": 22,
   "metadata": {},
   "outputs": [
    {
     "name": "stdout",
     "output_type": "stream",
     "text": [
      "\n",
      "Transient beginning.\n",
      "\n"
     ]
    },
    {
     "data": {
      "application/vnd.jupyter.widget-view+json": {
       "model_id": "7edfaa4b3ef640fb9cca5d43ec0cc81a",
       "version_major": 2,
       "version_minor": 0
      },
      "text/plain": [
       "HBox(children=(FloatProgress(value=0.0, max=2000.0), HTML(value='')))"
      ]
     },
     "metadata": {},
     "output_type": "display_data"
    },
    {
     "name": "stdout",
     "output_type": "stream",
     "text": [
      "\n",
      "\n",
      "Transient finished. Beginning BLV convergence steps.\n",
      "\n"
     ]
    },
    {
     "data": {
      "application/vnd.jupyter.widget-view+json": {
       "model_id": "1ae79335f8cf438db4f5203d628e9d21",
       "version_major": 2,
       "version_minor": 0
      },
      "text/plain": [
       "HBox(children=(FloatProgress(value=0.0, max=5.0), HTML(value='')))"
      ]
     },
     "metadata": {},
     "output_type": "display_data"
    },
    {
     "name": "stdout",
     "output_type": "stream",
     "text": [
      "\n",
      "\n",
      "BLV convergence finished. Beginning to observe BLVs.\n",
      "\n"
     ]
    },
    {
     "data": {
      "application/vnd.jupyter.widget-view+json": {
       "model_id": "8c2995e504ab4c9fbf33a5009ea10a99",
       "version_major": 2,
       "version_minor": 0
      },
      "text/plain": [
       "HBox(children=(FloatProgress(value=0.0, max=2.0), HTML(value='')))"
      ]
     },
     "metadata": {},
     "output_type": "display_data"
    },
    {
     "data": {
      "application/vnd.jupyter.widget-view+json": {
       "model_id": "d7f3a8eb4b854a89b50d5effb069857e",
       "version_major": 2,
       "version_minor": 0
      },
      "text/plain": [
       "HBox(children=(FloatProgress(value=0.0, max=5.0), HTML(value='')))"
      ]
     },
     "metadata": {},
     "output_type": "display_data"
    },
    {
     "name": "stdout",
     "output_type": "stream",
     "text": [
      "\n",
      "Observations written to ginelli/step2/R/R1.nc. Erasing personal log.\n",
      "\n",
      "Observations written to ginelli/step2/BLV/BLV1.nc. Erasing personal log.\n",
      "\n",
      "Observations written to ginelli/trajectory/Trajectory1.nc. Erasing personal log.\n",
      "\n"
     ]
    },
    {
     "data": {
      "application/vnd.jupyter.widget-view+json": {
       "model_id": "e189cf27bb6548a9a0d14297cbb5a01d",
       "version_major": 2,
       "version_minor": 0
      },
      "text/plain": [
       "HBox(children=(FloatProgress(value=0.0, max=5.0), HTML(value='')))"
      ]
     },
     "metadata": {},
     "output_type": "display_data"
    },
    {
     "name": "stdout",
     "output_type": "stream",
     "text": [
      "\n",
      "Observations written to ginelli/step2/R/R2.nc. Erasing personal log.\n",
      "\n",
      "Observations written to ginelli/step2/BLV/BLV2.nc. Erasing personal log.\n",
      "\n",
      "Observations written to ginelli/trajectory/Trajectory2.nc. Erasing personal log.\n",
      "\n",
      "\n"
     ]
    },
    {
     "data": {
      "application/vnd.jupyter.widget-view+json": {
       "model_id": "c51fca115a6246c38f0de2e6fbe3e3d1",
       "version_major": 2,
       "version_minor": 0
      },
      "text/plain": [
       "HBox(children=(FloatProgress(value=1.0, bar_style='info', max=1.0), HTML(value='')))"
      ]
     },
     "metadata": {},
     "output_type": "display_data"
    },
    {
     "name": "stdout",
     "output_type": "stream",
     "text": [
      "\n",
      "I have no observations! :(\n",
      "I have no observations! :(\n",
      "I have no observations! :(\n",
      "\n",
      "BLV observations finished. CLV convergence beginning. Just observing Rs.\n",
      "\n"
     ]
    },
    {
     "data": {
      "application/vnd.jupyter.widget-view+json": {
       "model_id": "51c4e6e536ab4a9fae8b11c38ceb8273",
       "version_major": 2,
       "version_minor": 0
      },
      "text/plain": [
       "HBox(children=(FloatProgress(value=0.0, max=5.0), HTML(value='')))"
      ]
     },
     "metadata": {},
     "output_type": "display_data"
    },
    {
     "name": "stdout",
     "output_type": "stream",
     "text": [
      "\n",
      "Observations written to ginelli/step3/R3.nc. Erasing personal log.\n",
      "\n"
     ]
    },
    {
     "data": {
      "application/vnd.jupyter.widget-view+json": {
       "model_id": "a26b9500a199472e9e93695c50259cc3",
       "version_major": 2,
       "version_minor": 0
      },
      "text/plain": [
       "HBox(children=(FloatProgress(value=1.0, bar_style='info', max=1.0), HTML(value='')))"
      ]
     },
     "metadata": {},
     "output_type": "display_data"
    },
    {
     "name": "stdout",
     "output_type": "stream",
     "text": [
      "\n",
      "I have no observations! :(\n",
      "\n",
      "Forward part all done :)\n",
      "True\n",
      "True\n",
      "True\n",
      "True\n",
      "True\n",
      "Pushed A through R3.nc. Overwriting A.npy.\n",
      "\n",
      "Observations written to ginelli/step5/LyapObs2.nc. Erasing personal log.\n",
      "\n",
      "Observations written to ginelli/step5/LyapObs1.nc. Erasing personal log.\n",
      "\n",
      "Ginelli Algorithm finished.\n"
     ]
    }
   ],
   "source": [
    "# -----------------------------------------\n",
    "# Forward Part of Ginelli Algorithm\n",
    "# -----------------------------------------\n",
    "\n",
    "# -----------------------------------------\n",
    "# Transient and Step 1, BLV Convergence\n",
    "# -----------------------------------------\n",
    "\n",
    "print('\\nTransient beginning.\\n')\n",
    "runner.integrate(transient, noprog=False)\n",
    "print('\\nTransient finished. Beginning BLV convergence steps.\\n')\n",
    "\n",
    "timings.update({'transient': tm.time() - start})\n",
    "\n",
    "# BLV Convergence steps\n",
    "\n",
    "ginelli_runner.run(ka, noprog=False)\n",
    "\n",
    "timings.update({'Step1': tm.time() - timings['transient'] - start})\n",
    "pickle.dump(timings, open(\"ginelli/timings.p\", \"wb\" ))\n",
    "\n",
    "# -----------------------------------------\n",
    "# Step 2, BLV Observation.\n",
    "# -----------------------------------------\n",
    "\n",
    "print('\\nBLV convergence finished. Beginning to observe BLVs.\\n')\n",
    "blocks = int(kb/dump_size) # How many times we dump\n",
    "remainder = kb%dump_size # Rest of observations\n",
    "\n",
    "for i in tqdm(range(blocks)):\n",
    "\n",
    "    utilities.make_observations(ginelli_runner, [Rlooker, BLVlooker, TrajectoryLooker], dump_size, 1, noprog=False)\n",
    "    # Observation frequency has to be 1 if we're reversing CLVs\n",
    "    Rlooker.dump('ginelli/step2/R')\n",
    "    BLVlooker.dump('ginelli/step2/BLV')\n",
    "    TrajectoryLooker.dump('ginelli/trajectory')\n",
    "\n",
    "utilities.make_observations(ginelli_runner, [Rlooker, BLVlooker], remainder, 1, noprog=False)\n",
    "Rlooker.dump('ginelli/step2/R')\n",
    "BLVlooker.dump('ginelli/step2/BLV')\n",
    "TrajectoryLooker.dump('ginelli/trajectory')\n",
    "\n",
    "timings.update({'Step2': tm.time() - timings['Step1'] - start})\n",
    "pickle.dump(timings, open(\"ginelli/timings.p\", \"wb\" ))\n",
    "\n",
    "# -----------------------------------------\n",
    "# Step 3, CLV Convergence Step, Forward\n",
    "# -----------------------------------------\n",
    "\n",
    "print('\\nBLV observations finished. CLV convergence beginning. Just observing Rs.\\n')\n",
    "blocks = int(kc/dump_size)\n",
    "remainder = kc%dump_size\n",
    "\n",
    "for i in range(blocks):\n",
    "\n",
    "    utilities.make_observations(ginelli_runner, [Rlooker], dump_size, 1, noprog=False)\n",
    "    Rlooker.dump('ginelli/step3')\n",
    "\n",
    "utilities.make_observations(ginelli_runner, [Rlooker], remainder, 1, noprog=False)\n",
    "Rlooker.dump('ginelli/step3')\n",
    "\n",
    "print('\\nForward part all done :)')\n",
    "\n",
    "timings.update({'Step3': tm.time() - timings['Step2'] - start})\n",
    "pickle.dump(timings, open(\"ginelli/timings.p\", \"wb\" ))\n",
    "\n",
    "# -----------------------------------------\n",
    "# Backward Part of Ginelli Algorithm\n",
    "# -----------------------------------------\n",
    "\n",
    "# -----------------------------------------\n",
    "# Step 4, Reversing CLV Convergence Steps\n",
    "# -----------------------------------------\n",
    "\n",
    "R_files = os.listdir('ginelli/step3')\n",
    "R_files.sort(reverse=True) # Ensuring files are in the right order\n",
    "\n",
    "A = np.identity(ginelli_runner.size)\n",
    "\n",
    "for file in R_files:\n",
    "    R_history = xr.open_dataset('ginelli/step3/' + file)\n",
    "    A = utilities.block_squish_norm(R_history, A) # This A is one timestep ahead of the R that pushed it\n",
    "    R_history.close()\n",
    "    print(f'Pushed A through {file}. Overwriting A.npy.\\n')\n",
    "    np.save('ginelli/step4/A.npy', A)\n",
    "\n",
    "timings.update({'Step4': tm.time() - timings['Step3'] - start})\n",
    "pickle.dump(timings, open(\"ginelli/timings.p\", \"wb\" ))\n",
    "\n",
    "# -----------------------------------------\n",
    "# Step 5, Observing LVs and LEs\n",
    "# -----------------------------------------\n",
    "\n",
    "# Sorting files we will be working with\n",
    "\n",
    "R_files = os.listdir('ginelli/step2/R')\n",
    "R_files.sort(reverse=True)\n",
    "\n",
    "BLV_files = os.listdir('ginelli/step2/BLV')\n",
    "BLV_files.sort(reverse=True)\n",
    "\n",
    "# Setting up observable storage\n",
    "\n",
    "parameters = ginelli_runner.parameter_dict.copy()\n",
    "parameters.update({'transient':transient,'ka':ka, 'kb':kb, 'kc':kc})\n",
    "LyapunovLooker = LyapunovObserver(parameters, utilities.max_digit(BLV_files))\n",
    "\n",
    "for [rfile, bfile] in zip(R_files, BLV_files): # Loop over files that were dumped\n",
    "    R_history = xr.open_dataset('ginelli/step2/R/' + rfile)\n",
    "    BLV_history = xr.open_dataset('ginelli/step2/BLV/' + bfile)\n",
    "\n",
    "    Rs, BLVs = np.flip(R_history.R, axis = 0), np.flip(BLV_history.BLV, axis = 0) # Times series reversed\n",
    "\n",
    "    for R, BLV in zip(Rs, BLVs):\n",
    "\n",
    "        # CLV Calculation\n",
    "        CLV = np.matmul(BLV.values, A)\n",
    "\n",
    "        # FTCLE Calculation\n",
    "        squishedA = np.linalg.solve(R, A)\n",
    "        norms = np.linalg.norm(squishedA, axis=0, ord=2)\n",
    "        ftcle = - np.log(norms)/(tau)\n",
    "        A = squishedA/norms\n",
    "\n",
    "        # FTBLE Calculation\n",
    "        ftble = np.log(np.diag(R))/(tau)\n",
    "\n",
    "        # Making observation\n",
    "        time = R.time.item()\n",
    "        LyapunovLooker.look(time, CLV, BLV.values, ftcle, ftble)\n",
    "\n",
    "\n",
    "    LyapunovLooker.dump('ginelli/step5')\n",
    "    R_history.close()\n",
    "    BLV_history.close()\n",
    "\n",
    "timings.update({'Step5': tm.time() - timings['Step4'] - start})\n",
    "pickle.dump(timings, open(\"ginelli/timings.p\", \"wb\" ))\n",
    "\n",
    "print('Ginelli Algorithm finished.')\n"
   ]
  },
  {
   "cell_type": "code",
   "execution_count": null,
   "metadata": {},
   "outputs": [],
   "source": [
    "ds.close()\n",
    "ds = xr.open_mfdataset(f'ginelli/step5/*.nc', parallel=True, combine='by_coords', concat_dim='time')"
   ]
  },
  {
   "cell_type": "code",
   "execution_count": null,
   "metadata": {},
   "outputs": [],
   "source": [
    "plt.plot(spectra(ds, geometry='C')[-50:-10], '.-')\n",
    "plt.plot(spectra(ds, geometry='B')[-50:-10], '.-')"
   ]
  },
  {
   "cell_type": "code",
   "execution_count": null,
   "metadata": {},
   "outputs": [],
   "source": [
    "np.linalg.matrix_rank(ds.CLV[0])"
   ]
  },
  {
   "cell_type": "code",
   "execution_count": null,
   "metadata": {},
   "outputs": [],
   "source": [
    "ds = xr.open_mfdataset(f'ginelli/trajectory/*.nc', parallel=True, combine='by_coords', concat_dim='time')"
   ]
  },
  {
   "cell_type": "code",
   "execution_count": null,
   "metadata": {},
   "outputs": [],
   "source": [
    "ds"
   ]
  },
  {
   "cell_type": "code",
   "execution_count": null,
   "metadata": {},
   "outputs": [],
   "source": [
    "h_experiment=[]\n",
    "for i in tqdm(range(1, 6)):\n",
    "    ds = xr.open_mfdataset(f'ginelli/step5/*.nc', parallel=True, combine='by_coords', concat_dim='time')\n",
    "    h_experiment.append(ds)"
   ]
  },
  {
   "cell_type": "code",
   "execution_count": null,
   "metadata": {},
   "outputs": [],
   "source": [
    "cupboard = 'ginelli/step5'\n",
    "name = LyapunovLooker.name\n",
    "\n",
    "save = cupboard + f'/{name}' + f'{1}.nc'\n",
    "print(save)"
   ]
  },
  {
   "cell_type": "code",
   "execution_count": null,
   "metadata": {},
   "outputs": [],
   "source": [
    "LyapunovLooker.observations.to_netcdf(save)"
   ]
  },
  {
   "cell_type": "code",
   "execution_count": null,
   "metadata": {},
   "outputs": [],
   "source": [
    "ds.close()"
   ]
  },
  {
   "cell_type": "code",
   "execution_count": null,
   "metadata": {},
   "outputs": [],
   "source": [
    "# ----------------------------------------\n",
    "# TrajectoryObserver\n",
    "# ----------------------------------------\n",
    "\n",
    "class TrajectoryObserver:\n",
    "    \"\"\"Observes the Q Matrix in the forward Ginelli Steps.\"\"\"\n",
    "\n",
    "    def __init__(self, ginelli):\n",
    "        \"\"\"param, ginelli: Ginelli Forward Stepper being obseved.\"\"\"\n",
    "        \n",
    "        self.name = 'Trajectory'\n",
    "        self.dump_count = 0\n",
    "\n",
    "        # Knowledge from Ginelli object\n",
    "        self.integrator = ginelli.integrator # stepper we're associated with\n",
    "        \n",
    "        # Needed knowledge of the integrator\n",
    "        self._K = self.integrator.K\n",
    "        self._J = self.integrator.J\n",
    "        self._parameters = self.integrator.parameter_dict\n",
    "        self.scale = self.integrator.b\n",
    "\n",
    "        # Trajectory Observation logs\n",
    "        self.time_obs = [] # Times we've made observations\n",
    "        self.x_obs = []\n",
    "        self.y_obs = []\n",
    "        self.dx_obs = []\n",
    "        self.dy_obs = []\n",
    "\n",
    "    def look(self, ginelli):\n",
    "        \"\"\"Observes trajectory of L96 trajectory\"\"\"\n",
    "        \n",
    "        integrator = ginelli.integrator\n",
    "\n",
    "        # Note the time\n",
    "        self.time_obs.append(integrator.time)\n",
    "\n",
    "        # Making Observations\n",
    "        self.x_obs.append(integrator.X.copy())\n",
    "        self.y_obs.append(integrator.Y.copy()/self.scale) # Integrator solves transformed equations\n",
    "        self.dx_obs.append(integrator.dx.copy())\n",
    "        self.dy_obs.append(integrator.dy.copy()/self.scale)\n",
    "\n",
    "    @property\n",
    "    def observations(self):\n",
    "        \"\"\"cupboard: Directory where to write netcdf.\"\"\"\n",
    "        if (len(self.x_obs) == 0):\n",
    "            print('I have no observations! :(')\n",
    "            return\n",
    "\n",
    "        dic = {}\n",
    "        _time = self.time_obs\n",
    "        dic['X'] = xr.DataArray(self.x_obs, dims=['time', 'K'], name='X',\n",
    "                                coords = {'time': _time,'K': np.arange(1, 1 + self._K)})\n",
    "        dic['Y'] = xr.DataArray(self.y_obs, dims=['time', 'KJ'], name='Y',\n",
    "                                coords = {'time': _time, 'KJ': np.arange(1, 1 + self._K * self._J)})\n",
    "        dic['dx'] = xr.DataArray(self.x_obs, dims=['time', 'K'], name='dx',\n",
    "                                coords = {'time': _time,'K': np.arange(1, self._K + 1)})\n",
    "        dic['dy'] = xr.DataArray(self.y_obs, dims=['time', 'KJ'], name='dy',\n",
    "                                coords = {'time': _time, 'KJ': np.arange(1, 1 + self._K * self._J)})\n",
    "\n",
    "        # Slow Variables above fast ones\n",
    "        dic['X_repeat'] = xr.DataArray(np.repeat(self.x_obs, self._J, axis=1),\n",
    "                                   dims=['time', 'KJ'], name='X_repeat',\n",
    "                                    coords = {'time': _time,'KJ': np.arange(1, 1 + self._K * self._J)})# X's above the y's\n",
    "\n",
    "        return xr.Dataset(dic, attrs= self._parameters)\n",
    "\n",
    "    def wipe(self):\n",
    "        \"\"\"Erases observations\"\"\"\n",
    "        self.time_obs = []\n",
    "        self.x_obs = []\n",
    "        self.y_obs = []\n",
    "        self.dx_obs = []\n",
    "        self.dy_obs = []\n",
    "\n",
    "    def dump(self, cupboard, name=None):\n",
    "        \"\"\" Saves observations to netcdf and wipes.\n",
    "        cupboard: Directory where to write netcdf.\n",
    "        name: file name\"\"\"\n",
    "\n",
    "        if (len(self.x_obs) == 0):\n",
    "            print('I have no observations! :(')\n",
    "            return\n",
    "\n",
    "        if name == None:\n",
    "            name=self.name\n",
    "\n",
    "        save = cupboard + f'/{name}' + f'{self.dump_count + 1}.nc'\n",
    "        self.observations.to_netcdf(save)\n",
    "        print(f'Observations written to {save}. Erasing personal log.\\n')\n",
    "        self.wipe()\n",
    "        self.dump_count +=1\n"
   ]
  },
  {
   "cell_type": "code",
   "execution_count": null,
   "metadata": {},
   "outputs": [],
   "source": [
    "runn"
   ]
  },
  {
   "cell_type": "code",
   "execution_count": null,
   "metadata": {},
   "outputs": [],
   "source": []
  }
 ],
 "metadata": {
  "kernelspec": {
   "display_name": "Python3 (personal)",
   "language": "python",
   "name": "python3_personal"
  },
  "language_info": {
   "codemirror_mode": {
    "name": "ipython",
    "version": 3
   },
   "file_extension": ".py",
   "mimetype": "text/x-python",
   "name": "python",
   "nbconvert_exporter": "python",
   "pygments_lexer": "ipython3",
   "version": "3.6.10"
  }
 },
 "nbformat": 4,
 "nbformat_minor": 2
}
